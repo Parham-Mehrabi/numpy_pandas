{
 "cells": [
  {
   "cell_type": "markdown",
   "metadata": {},
   "source": [
    "# dtypes\n",
    "\n",
    "- Integer Types:\n",
    "\n",
    "    - bool_ (1 byte): Boolean values (True or False).\n",
    "    - int_ (variable size): Default integer type (platform-dependent, typically int64 or int32).\n",
    "    - intc (4 bytes): C integer (signed).\n",
    "    - intp (variable size): Integer used for indexing (platform-dependent, typically int64 or int32).\n",
    "    - uint8 (1 byte): Unsigned 8-bit integer.\n",
    "    - int8 (1 byte): Signed 8-bit integer.\n",
    "    - And so on, representing different sizes and signed/unsigned options for integers up to uint64 and int64.  \n",
    "\n",
    "- Floating-Point Types:\n",
    "\n",
    "    - float16 (2 bytes): Half-precision float (IEEE 754-2008).\n",
    "    - float32 (4 bytes): Single-precision float (IEEE 754).\n",
    "    - float64 (8 bytes): Double-precision float (IEEE 754).\n",
    "    - longdouble (variable size): Extended-precision float (platform-dependent).\n",
    "\n",
    "- String and Character Types:\n",
    "\n",
    "    - str_ (variable size): Unicode string.\n",
    "    - bytes_ (variable size): Byte string.\n",
    "    - object_ (variable size): Python object (can store any type).\n",
    "\n",
    "- Structured and Specialized Types:\n",
    "\n",
    "    - Structured arrays: Combine different data types within a single array.\n",
    "    - Timedelta and Datetime types: Represent durations and timestamps.\n",
    "\n"
   ]
  },
  {
   "cell_type": "markdown",
   "metadata": {},
   "source": [
    "- i - integer\n",
    "- b - boolean\n",
    "- u - unsigned integer\n",
    "- f - float\n",
    "- c - complex float\n",
    "- m - timedelta\n",
    "- M - datetime\n",
    "- O - python object type which can be any python object\n",
    "- S - Fixed-length ASCII String type (1byte per character)\n",
    "    - for example to create string dtype with length 10, use 'S10' \n",
    "- U - Fixed-length Unicode type\n",
    "    - same specification semantic as String_\n",
    "- V - fixed chunk of memory for other type ( void )  \n",
    "\n",
    "\n",
    "__there are different way to declare each of them for example this table is for integer:__\n",
    "\n",
    "\n",
    "\n",
    "<table >\n",
    "  <tr>\n",
    "    <th>Type Name</th>\n",
    "    <th>Character Code</th>\n",
    "    <th>Size (Bytes)</th>\n",
    "    <th>Description</th>\n",
    "    <th>Signed/Unsigned</th>\n",
    "  </tr>\n",
    "  <tr>\n",
    "    <td>i1</td>\n",
    "    <td>b</td>\n",
    "    <td>1</td>\n",
    "    <td>8-bit signed integer</td>\n",
    "    <td>Signed</td>\n",
    "  </tr>\n",
    "  <tr>\n",
    "    <td>i2</td>\n",
    "    <td>i2</td>\n",
    "    <td>2</td>\n",
    "    <td>16-bit signed integer</td>\n",
    "    <td>Signed</td>\n",
    "  </tr>\n",
    "  <tr>\n",
    "    <td>i4</td>\n",
    "    <td>i4</td>\n",
    "    <td>4</td>\n",
    "    <td>32-bit signed integer</td>\n",
    "    <td>Signed</td>\n",
    "  </tr>\n",
    "  <tr>\n",
    "    <td>i8</td>\n",
    "    <td>i8</td>\n",
    "    <td>8</td>\n",
    "    <td>64-bit signed integer</td>\n",
    "    <td>Signed</td>\n",
    "  </tr>\n",
    "  <tr>\n",
    "    <td>u1</td>\n",
    "    <td>u</td>\n",
    "    <td>1</td>\n",
    "    <td>8-bit unsigned integer</td>\n",
    "    <td>Unsigned</td>\n",
    "  </tr>\n",
    "  <tr>\n",
    "    <td>u2</td>\n",
    "    <td>u2</td>\n",
    "    <td>2</td>\n",
    "    <td>16-bit unsigned integer</td>\n",
    "    <td>Unsigned</td>\n",
    "  </tr>\n",
    "  <tr>\n",
    "    <td>u4</td>\n",
    "    <td>u4</td>\n",
    "    <td>4</td>\n",
    "    <td>32-bit unsigned integer</td>\n",
    "    <td>Unsigned</td>\n",
    "  </tr>\n",
    "  <tr>\n",
    "    <td>u8</td>\n",
    "    <td>u8</td>\n",
    "    <td>8</td>\n",
    "    <td>64-bit unsigned integer</td>\n",
    "    <td>Unsigned</td>\n",
    "  </tr>\n",
    "</table>\n",
    "\n",
    "## signed vs unsigned:\n",
    "The key difference between signed and unsigned data types in NumPy (and programming in general) lies in how they represent and interpret numbers:\n",
    "\n",
    "- Signed:\n",
    "  - Can store both positive and negative integer values.\n",
    "  - Uses the most significant bit (MSB) to indicate the sign:\n",
    "  - 0 for positive numbers\n",
    "  - 1 for negative numbers\n",
    "  - Remaining bits represent the magnitude of the number.\n",
    "\n",
    "- Unsigned:\n",
    "  - Can only store **non-negative integers** (zero or positive).\n",
    "  - **All bits** are used to represent the magnitude of the number.\n",
    "  - This allows them to have a **larger range of representable values** compared to signed types with the same number of bits.\n",
    "\n",
    "\n",
    "\n",
    "### Example:\n",
    "\n",
    "Consider 8-bit integers (1 byte):\n",
    "\n",
    "- Signed:\n",
    "  - Minimum value: -128 (MSB = 1, remaining 7 bits represent magnitude 01111111)\n",
    "  - Maximum value: 127 (MSB = 0, remaining 7 bits represent magnitude 01111111)\n",
    "- Unsigned:\n",
    "  - Minimum value: 0 (all bits represent magnitude 00000000)\n",
    "  - Maximum value: 255 (all bits represent magnitude 11111111)  \n",
    "\n",
    "<table border=\"1\">\n",
    "  <tr>\n",
    "    <th>Feature</th>\n",
    "    <th>Signed</th>\n",
    "    <th>Unsigned</th>\n",
    "  </tr>\n",
    "  <tr>\n",
    "    <td>Range</td>\n",
    "    <td>Negative to positive values</td>\n",
    "    <td>Zero and positive values</td>\n",
    "  </tr>\n",
    "  <tr>\n",
    "    <td>Sign bit</td>\n",
    "    <td>Yes (MSB)</td>\n",
    "    <td>No</td>\n",
    "  </tr>\n",
    "  <tr>\n",
    "    <td>Magnitude representation</td>\n",
    "    <td>Remaining bits</td>\n",
    "    <td>All bits</td>\n",
    "  </tr>\n",
    "  <tr>\n",
    "    <td>Maximum value for N bits</td>\n",
    "    <td>2^(N-1) - 1</td>\n",
    "    <td>2^N - 1</td>\n",
    "  </tr>\n",
    "  <tr>\n",
    "    <td>Example (8-bit integer)</td>\n",
    "    <td>-128 to 127</td>\n",
    "    <td>0 to 255</td>\n",
    "  </tr>\n",
    "</table>\n",
    "\n",
    "### When to use which:\n",
    "\n",
    "- Use signed if you need to store negative values.\n",
    "- Use unsigned if you know your values will always be non-negative and you need a larger range.\n",
    "- Be cautious when performing calculations between signed and unsigned types, as unexpected results might occur due to different interpretations of numbers.\n",
    "\n",
    "\t\t\t"
   ]
  },
  {
   "cell_type": "code",
   "execution_count": 1,
   "metadata": {},
   "outputs": [],
   "source": [
    "import numpy as np"
   ]
  },
  {
   "cell_type": "code",
   "execution_count": 2,
   "metadata": {},
   "outputs": [
    {
     "data": {
      "text/plain": [
       "dtype('int64')"
      ]
     },
     "execution_count": 2,
     "metadata": {},
     "output_type": "execute_result"
    }
   ],
   "source": [
    "np.array(range(10)).dtype"
   ]
  },
  {
   "cell_type": "markdown",
   "metadata": {},
   "source": [
    "#### in above example the time of it is int64 which will sign 64bits(8bytes) in memory\n",
    "\n",
    "we can change it during creating the array or even after that"
   ]
  },
  {
   "cell_type": "code",
   "execution_count": 3,
   "metadata": {},
   "outputs": [
    {
     "name": "stdout",
     "output_type": "stream",
     "text": [
      "i2 which means 2bytes(16bits) will change dtype to:  int16\n",
      "then we modify the array to make it i4(32bits) so the arr.dtype is:  int32\n"
     ]
    }
   ],
   "source": [
    "arr = np.array(range(10), 'i2')\n",
    "print('i2 which means 2bytes(16bits) will change dtype to: ', arr.dtype)\n",
    "arr = arr.astype('i4')\n",
    "print('then we modify the array to make it i4(32bits) so the arr.dtype is: ', arr.dtype)\n"
   ]
  },
  {
   "cell_type": "code",
   "execution_count": 4,
   "metadata": {},
   "outputs": [
    {
     "data": {
      "text/plain": [
       "dtype('<U6')"
      ]
     },
     "execution_count": 4,
     "metadata": {},
     "output_type": "execute_result"
    }
   ],
   "source": [
    "arr = np.array(['apple', 'banana', 'cherry'])\n",
    "arr.dtype"
   ]
  },
  {
   "cell_type": "code",
   "execution_count": 5,
   "metadata": {},
   "outputs": [
    {
     "data": {
      "text/plain": [
       "dtype('S6')"
      ]
     },
     "execution_count": 5,
     "metadata": {},
     "output_type": "execute_result"
    }
   ],
   "source": [
    "arr = np.array([b'apple', b'banana', b'cherry'])\n",
    "\n",
    "arr.dtype"
   ]
  },
  {
   "cell_type": "code",
   "execution_count": 6,
   "metadata": {},
   "outputs": [
    {
     "data": {
      "text/plain": [
       "dtype('S6')"
      ]
     },
     "execution_count": 6,
     "metadata": {},
     "output_type": "execute_result"
    }
   ],
   "source": [
    "arr = np.array(['apple', 'banana', 'cherry'], dtype='S')\n",
    "\n",
    "arr.dtype"
   ]
  },
  {
   "cell_type": "code",
   "execution_count": 7,
   "metadata": {},
   "outputs": [
    {
     "data": {
      "text/plain": [
       "array([b'ap', b'ba', b'ch'], dtype='|S2')"
      ]
     },
     "execution_count": 7,
     "metadata": {},
     "output_type": "execute_result"
    }
   ],
   "source": [
    "arr = np.array(['apple', 'banana', 'cherry'], dtype='S2')   # here 'S2' is not enough so it will cut them to their first two bytes\n",
    "arr"
   ]
  },
  {
   "cell_type": "code",
   "execution_count": 8,
   "metadata": {},
   "outputs": [
    {
     "data": {
      "text/plain": [
       "array([125, 126, 127], dtype=int8)"
      ]
     },
     "execution_count": 8,
     "metadata": {},
     "output_type": "execute_result"
    }
   ],
   "source": [
    "arr = np.array(range(125, 128)).astype('i1')\n",
    "# i1 is enough for [125, 126, 127]\n",
    "arr"
   ]
  },
  {
   "cell_type": "code",
   "execution_count": 9,
   "metadata": {},
   "outputs": [
    {
     "data": {
      "text/plain": [
       "array([ 126,  127, -128], dtype=int8)"
      ]
     },
     "execution_count": 9,
     "metadata": {},
     "output_type": "execute_result"
    }
   ],
   "source": [
    "arr = np.array(range(126, 129)).astype('i1')\n",
    "# i1 is NOT enough for [126, 127, 128]\n",
    "arr"
   ]
  },
  {
   "cell_type": "markdown",
   "metadata": {},
   "source": [
    "in above example i1 is not enough for it so it will mess it up for [126, 127, 128]"
   ]
  },
  {
   "cell_type": "code",
   "execution_count": 10,
   "metadata": {},
   "outputs": [
    {
     "data": {
      "text/plain": [
       "array([126, 127, 128], dtype=uint8)"
      ]
     },
     "execution_count": 10,
     "metadata": {},
     "output_type": "execute_result"
    }
   ],
   "source": [
    "arr = np.array(range(126, 129)).astype('u1')\n",
    "# u1 is enough for [126, 127, 128]\n",
    "\n",
    "arr"
   ]
  },
  {
   "cell_type": "code",
   "execution_count": 11,
   "metadata": {},
   "outputs": [
    {
     "data": {
      "text/plain": [
       "array([254, 255,   0], dtype=uint8)"
      ]
     },
     "execution_count": 11,
     "metadata": {},
     "output_type": "execute_result"
    }
   ],
   "source": [
    "arr = np.array(range(254, 257)).astype('u1')\n",
    "# u1 is NOT enough for [255, 255, 256]\n",
    "arr"
   ]
  },
  {
   "cell_type": "code",
   "execution_count": 12,
   "metadata": {},
   "outputs": [
    {
     "data": {
      "text/plain": [
       "array([251, 252, 253, 254, 255,   0,   1,   2,   3,   4], dtype=uint8)"
      ]
     },
     "execution_count": 12,
     "metadata": {},
     "output_type": "execute_result"
    }
   ],
   "source": [
    "arr = np.array(range(-5, 5)).astype('u1')\n",
    "# u is NOT proper for negative values either\n",
    "arr"
   ]
  },
  {
   "cell_type": "markdown",
   "metadata": {},
   "source": [
    "**so we should always be careful for example when our dataset has for example people wight and its in str and we are going to convert it:**\n",
    "- we should choose something that require less memory\n",
    "- we should be careful to not missing data by choosing wrong dtype\n",
    "    - like this ```arr = np.array(['apple', 'banana', 'cherry'], dtype='S2')```\n",
    "    - or this ```arr = np.array(range(-5, 5)).astype('u1')```\n"
   ]
  }
 ],
 "metadata": {
  "kernelspec": {
   "display_name": "Python 3",
   "language": "python",
   "name": "python3"
  },
  "language_info": {
   "codemirror_mode": {
    "name": "ipython",
    "version": 3
   },
   "file_extension": ".py",
   "mimetype": "text/x-python",
   "name": "python",
   "nbconvert_exporter": "python",
   "pygments_lexer": "ipython3",
   "version": "3.10.12"
  }
 },
 "nbformat": 4,
 "nbformat_minor": 2
}
