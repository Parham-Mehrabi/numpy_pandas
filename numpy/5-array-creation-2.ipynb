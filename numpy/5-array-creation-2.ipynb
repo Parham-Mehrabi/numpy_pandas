{
 "cells": [
  {
   "cell_type": "markdown",
   "metadata": {},
   "source": [
    "# Array creation\n",
    "\n",
    "- Array creation routines\n",
    "- Array creation from existing data\n",
    "<small> we checked routines in previous module </small>\n",
    "\n",
    "## now we are going to check __Array creation from existing data__ (1):\n",
    "\n",
    "the first 3 method we are going to check are : \n",
    "- np.array:\n",
    "    - np.array(object[, dtype, copy, order, subok, ndim])\n",
    "- np.asarray\n",
    "    - np.asarray(object[, dtype, order])\n",
    "- np.asanyarray\n",
    "    - np.asanyarray(object[, dtype, order])\n",
    "\n",
    "### np.array:\n",
    "__np.array(object[, dtype, copy, order, subok, ndim])__\n",
    "- object: some kind of iterable as source (array_like) __required__\n",
    "- dtype: The desired data-type for the array\n",
    "- copy:\n",
    "    - boolean\n",
    "    - default is True\n",
    "    - either copy the array or just reference it \n",
    "- order:\n",
    "    - {‘K’, ‘A’, ‘C’, ‘F’}\n",
    "    - default is 'K'\n",
    "    - specify memory layout of the array\n",
    "    - if object is not an array:\n",
    "        - the newly created array will be in C order (row major), unless 'F' is specified in which case it will be in Fortran order (column major)\n",
    "\n",
    "    - if object is an array:\n",
    "        - order='K' & copy = True -> F & C order preserved, otherwise most similar order\n",
    "        - order='K' & copy = False -> unchanged  \n",
    "        <br/>\n",
    "        - order='A' & copy = True -> F order if input is F and not C, otherwise C order\n",
    "        - order='A' & copy = False -> unchanged  \n",
    "        <br/>\n",
    "        - order='C' -> C order  \n",
    "        <br/>\n",
    "        - order='F' -> F order  \n",
    "\n",
    "- subok:\n",
    "    - boolean\n",
    "    - default is False\n",
    "    - if True: then sub-classes will be passed-through.\n",
    "    - if False: the returned array will be forced to be a base-class array.\n",
    "\n",
    "- ndim:\n",
    "    - int\n",
    "    - default is 0\n",
    "    - Specifies the minimum number of dimensions that the resulting array should have. Ones will be prepended to the shape as needed to meet this requirement.\n"
   ]
  },
  {
   "cell_type": "code",
   "execution_count": 1,
   "metadata": {},
   "outputs": [],
   "source": [
    "import numpy as np"
   ]
  },
  {
   "cell_type": "markdown",
   "metadata": {},
   "source": [
    "### lets check copy and subok argument here:"
   ]
  },
  {
   "cell_type": "code",
   "execution_count": 2,
   "metadata": {},
   "outputs": [
    {
     "name": "stdout",
     "output_type": "stream",
     "text": [
      "have same id():  False\n",
      "may share memory:  False\n",
      "[1 2 3] is [1 2 3]:  False\n"
     ]
    }
   ],
   "source": [
    "arr = np.array([1, 2, 3])\n",
    "arr2 = np.array(arr)\n",
    "\n",
    "print(\"have same id(): \", id(arr) == id(arr2))\n",
    "print('may share memory: ', np.may_share_memory(arr, arr2))\n",
    "print(f\"{arr} is {arr2}: \", arr is arr2)"
   ]
  },
  {
   "cell_type": "code",
   "execution_count": 3,
   "metadata": {},
   "outputs": [
    {
     "name": "stdout",
     "output_type": "stream",
     "text": [
      "have same id():  True\n",
      "may share memory:  True\n",
      "[1 2 3] is [1 2 3]:  True\n"
     ]
    }
   ],
   "source": [
    "arr = np.array([1, 2, 3])\n",
    "arr2 = np.array(arr, copy=False)\n",
    "\n",
    "print(\"have same id(): \", id(arr) == id(arr2))\n",
    "print('may share memory: ', np.may_share_memory(arr, arr2))\n",
    "print(f\"{arr} is {arr2}: \", arr is arr2)"
   ]
  },
  {
   "cell_type": "markdown",
   "metadata": {},
   "source": [
    "in second scenario, if we modify the second, the first one will change too"
   ]
  },
  {
   "cell_type": "code",
   "execution_count": 4,
   "metadata": {},
   "outputs": [
    {
     "name": "stdout",
     "output_type": "stream",
     "text": [
      "[1 2 3]\n",
      "[4 5 3]\n"
     ]
    }
   ],
   "source": [
    "arr = np.array([1, 2, 3])\n",
    "arr_false_copy = np.array(arr, copy=False)\n",
    "arr_true_copy = np.array(arr, copy=False)\n",
    "\n",
    "\n",
    "print(arr)\n",
    "arr_false_copy[0] = 4   # this will change arr too\n",
    "arr_true_copy[1] = 5    # but this one will only modify arr_true_copy\n",
    "print(arr)\n",
    "\n"
   ]
  },
  {
   "cell_type": "markdown",
   "metadata": {},
   "source": [
    "how ever if we change type, it will copy it anyway"
   ]
  },
  {
   "cell_type": "code",
   "execution_count": 5,
   "metadata": {},
   "outputs": [
    {
     "name": "stdout",
     "output_type": "stream",
     "text": [
      "have same id():  False\n",
      "may share memory:  False\n",
      "[1 2 3] is [1 2 3]:  False\n"
     ]
    }
   ],
   "source": [
    "arr = np.array([1, 2, 3])\n",
    "arr2 = np.array(arr, copy=False, dtype=np.int32)\n",
    "\n",
    "print(\"have same id(): \", id(arr) == id(arr2))\n",
    "print('may share memory: ', np.may_share_memory(arr, arr2))\n",
    "print(f\"{arr} is {arr2}: \", arr is arr2)"
   ]
  },
  {
   "cell_type": "code",
   "execution_count": 6,
   "metadata": {},
   "outputs": [
    {
     "name": "stdout",
     "output_type": "stream",
     "text": [
      "have same id():  False\n",
      "may share memory:  False\n",
      "[[1 2 3]] is [[1 2 3]]:  False\n"
     ]
    }
   ],
   "source": [
    "mat = np.matrix([1, 2, 3])\n",
    "arr = np.array(mat)\n",
    "\n",
    "print(\"have same id(): \", id(mat) == id(arr))\n",
    "print('may share memory: ', np.may_share_memory(mat, arr))\n",
    "print(f\"{mat} is {arr}: \", mat is arr)"
   ]
  },
  {
   "cell_type": "markdown",
   "metadata": {},
   "source": [
    "__well this one was clear, but what if we dont copy it?__  \n",
    " in this casethey both have some place in memory and some of the place is shared"
   ]
  },
  {
   "cell_type": "code",
   "execution_count": 7,
   "metadata": {},
   "outputs": [
    {
     "name": "stdout",
     "output_type": "stream",
     "text": [
      "have same id():  False\n",
      "may share memory:  True\n",
      "[[1 2 3]] is [[1 2 3]]:  False\n"
     ]
    }
   ],
   "source": [
    "mat = np.matrix([1, 2, 3])\n",
    "arr = np.array(mat, copy=False)\n",
    "\n",
    "print(\"have same id(): \", id(mat) == id(arr))               # False\n",
    "print('may share memory: ', np.may_share_memory(mat, arr))  # True\n",
    "print(f\"{mat} is {arr}: \", mat is arr)                      # False"
   ]
  },
  {
   "cell_type": "code",
   "execution_count": 8,
   "metadata": {},
   "outputs": [
    {
     "name": "stdout",
     "output_type": "stream",
     "text": [
      "[[1 2 3]]\n",
      "[[10 10 10]]\n"
     ]
    }
   ],
   "source": [
    "# in this case we also change the parent by modifying the child too:\n",
    "\n",
    "print(mat)\n",
    "arr[0] = 10\n",
    "print(mat)"
   ]
  },
  {
   "cell_type": "markdown",
   "metadata": {},
   "source": [
    "we saw if we dont copy (copy=False) and they were different classes like matrix and array, they would have different IDs and just share some memory,\n",
    "```\n",
    "id(mat) == id(arr) -> # False\n",
    "```\n",
    "\n",
    "but if we put subok=True, they will change the class of child too,  \n",
    "in other words, however we are creating it using np.array, but since we specify subok=True,\n",
    "it will be an object from matrix class in this case:"
   ]
  },
  {
   "cell_type": "code",
   "execution_count": 9,
   "metadata": {},
   "outputs": [
    {
     "name": "stdout",
     "output_type": "stream",
     "text": [
      "have same id():  True\n",
      "may share memory:  True\n",
      "[[1 2 3]] is [[1 2 3]]:  True\n",
      "[[1 2 3]]\n"
     ]
    }
   ],
   "source": [
    "mat = np.matrix([1, 2, 3])\n",
    "mat2 = np.array(mat, copy=False, subok=True)\n",
    "\n",
    "print(\"have same id(): \", id(mat) == id(mat2))\n",
    "print('may share memory: ', np.may_share_memory(mat, mat2))  \n",
    "print(f\"{mat} is {mat2}: \", mat is mat2) \n",
    "print(mat2)"
   ]
  },
  {
   "cell_type": "markdown",
   "metadata": {},
   "source": [
    "## np.asarray & np.asanyarray:\n",
    "\n",
    "- __asarray:__ is basically the same as np.array but copy is set to False\n",
    "    - ```np.asarray() = np.array(copy=False)```\n",
    "- __asanyarray:__ is basically the same as np.array but copy is set to False and subok is set to True\n",
    "    - ``` np.asanyarray() = np.array(copy=False, subok=True) ```\n"
   ]
  },
  {
   "cell_type": "markdown",
   "metadata": {},
   "source": []
  }
 ],
 "metadata": {
  "kernelspec": {
   "display_name": "Python 3",
   "language": "python",
   "name": "python3"
  },
  "language_info": {
   "codemirror_mode": {
    "name": "ipython",
    "version": 3
   },
   "file_extension": ".py",
   "mimetype": "text/x-python",
   "name": "python",
   "nbconvert_exporter": "python",
   "pygments_lexer": "ipython3",
   "version": "3.10.12"
  }
 },
 "nbformat": 4,
 "nbformat_minor": 2
}
