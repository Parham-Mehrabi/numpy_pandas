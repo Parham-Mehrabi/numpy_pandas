{
 "cells": [
  {
   "cell_type": "markdown",
   "metadata": {},
   "source": [
    "# Array creation\n",
    "\n",
    "## now we are check some other methods for __Array creation from existing data__ (2):\n",
    "\n",
    "- np.ascontiguousarray\n",
    "\n",
    "- np.matrix\n",
    "\n",
    "- np.asmatrix\n",
    "\n",
    "- np.copy\n",
    "\n",
    "- np.frombuffer\n",
    "\n"
   ]
  },
  {
   "cell_type": "code",
   "execution_count": 1,
   "metadata": {},
   "outputs": [],
   "source": [
    "import numpy as np"
   ]
  },
  {
   "cell_type": "markdown",
   "metadata": {},
   "source": [
    "## np.ascontiguousarray:\n",
    "ascontiguousarray(a[, dtype]) -> return a contiguous array (ndim >= 1) in memory (C order) \n",
    "\n",
    "<small>Note: This function returns an array with at least one-dimension (1-d) so it will not preserve 0-d arrays.</small>"
   ]
  },
  {
   "cell_type": "code",
   "execution_count": 2,
   "metadata": {},
   "outputs": [
    {
     "name": "stdout",
     "output_type": "stream",
     "text": [
      "x is Fortran order:  True\n",
      "y is C order:  True\n"
     ]
    }
   ],
   "source": [
    "x = np.ones((2, 3), order='F')\n",
    "print(\"x is Fortran order: \", x.flags['F_CONTIGUOUS'])\n",
    "\n",
    "# Calling ascontiguousarray makes a C-contiguous copy:\n",
    "y = np.ascontiguousarray(x)\n",
    "print(\"y is C order: \", y.flags['C_CONTIGUOUS'])"
   ]
  },
  {
   "cell_type": "markdown",
   "metadata": {},
   "source": [
    "## np.matrix\n",
    "<a href=\"https://numpy.org/doc/1.26/reference/generated/numpy.matrix.html\">It is no longer recommended to use this class, even for linear algebra. Instead use regular arrays. The class may be removed in the future.</a>  \n",
    "its simply returns a matrix and can be used like this:\n",
    "```\n",
    "input: a = np.matrix('1 2; 3 4')\n",
    "\n",
    "or like this:\n",
    "\n",
    "np.matrix([[1, 2], [3, 4]])\n",
    "```\n",
    "the output will be same."
   ]
  },
  {
   "cell_type": "code",
   "execution_count": 3,
   "metadata": {},
   "outputs": [
    {
     "name": "stdout",
     "output_type": "stream",
     "text": [
      "[[1 2]\n",
      " [3 4]]\n",
      "[[1 2]\n",
      " [3 4]]\n"
     ]
    }
   ],
   "source": [
    "a = np.matrix('1 2; 3 4')\n",
    "b = np.matrix([[1,2], [3, 4]])\n",
    "print(a)\n",
    "print(b)"
   ]
  },
  {
   "cell_type": "markdown",
   "metadata": {},
   "source": [
    "## np.asmatrix\n",
    "Interpret the input as a matrix.\n",
    "\n",
    "Unlike matrix, asmatrix does not make a copy if the input is already a matrix or an ndarray. Equivalent to matrix(data, copy=False).\n",
    "\n"
   ]
  },
  {
   "cell_type": "code",
   "execution_count": 4,
   "metadata": {},
   "outputs": [
    {
     "name": "stdout",
     "output_type": "stream",
     "text": [
      "[[10  2  3]]\n",
      "[[1 2 3]]\n"
     ]
    }
   ],
   "source": [
    "a = np.array([1,2,3])\n",
    "\n",
    "b = np.matrix(a)\n",
    "c = np.asmatrix(a)\n",
    "\n",
    "a[0] = 10\n",
    "\n",
    "print(c)\n",
    "print(b)"
   ]
  },
  {
   "cell_type": "markdown",
   "metadata": {},
   "source": [
    "## np.copy\n",
    "__Return an array copy of the given object.__\n",
    "\n",
    "- but this method will create a shallow copy, so if we are going to copy a nested array, we should use copy.deepcopy:\n"
   ]
  },
  {
   "cell_type": "code",
   "execution_count": 5,
   "metadata": {},
   "outputs": [
    {
     "name": "stdout",
     "output_type": "stream",
     "text": [
      "[1 'm' list([100, 3, 4])]\n",
      "[1 'm' list([2, 3, 4])]\n"
     ]
    }
   ],
   "source": [
    "import copy\n",
    "\n",
    "a = np.array([1, 'm', [2, 3, 4]], dtype=object)\n",
    "b = np.copy(a)\n",
    "c = copy.deepcopy(a)\n",
    "\n",
    "a[2][0] = 100\n",
    "\n",
    "print(b)\n",
    "print(c)"
   ]
  },
  {
   "cell_type": "markdown",
   "metadata": {},
   "source": [
    "## np.frombuffer\n",
    "\n",
    "Interpret a buffer as a 1-dimensional array.\n",
    "\n",
    "```numpy.frombuffer(buffer[, dtype=float, count=-1, offset=0, *, like=None])```"
   ]
  },
  {
   "cell_type": "code",
   "execution_count": 6,
   "metadata": {},
   "outputs": [
    {
     "data": {
      "text/plain": [
       "array([b'W', b'o', b'r', b'l', b'd'], dtype='|S1')"
      ]
     },
     "execution_count": 6,
     "metadata": {},
     "output_type": "execute_result"
    }
   ],
   "source": [
    "s = b\"Hello World !\"\n",
    "np.frombuffer(s, dtype='S1', count=5, offset=6)"
   ]
  },
  {
   "cell_type": "code",
   "execution_count": null,
   "metadata": {},
   "outputs": [],
   "source": []
  }
 ],
 "metadata": {
  "kernelspec": {
   "display_name": "Python 3",
   "language": "python",
   "name": "python3"
  },
  "language_info": {
   "codemirror_mode": {
    "name": "ipython",
    "version": 3
   },
   "file_extension": ".py",
   "mimetype": "text/x-python",
   "name": "python",
   "nbconvert_exporter": "python",
   "pygments_lexer": "ipython3",
   "version": "3.10.12"
  }
 },
 "nbformat": 4,
 "nbformat_minor": 2
}
