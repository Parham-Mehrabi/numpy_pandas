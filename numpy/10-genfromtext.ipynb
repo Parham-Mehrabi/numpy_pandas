{
 "cells": [
  {
   "cell_type": "markdown",
   "metadata": {},
   "source": [
    "# numpy.genfromtext()"
   ]
  },
  {
   "cell_type": "code",
   "execution_count": 146,
   "metadata": {},
   "outputs": [],
   "source": [
    "import numpy as np\n",
    "import io\n"
   ]
  },
  {
   "cell_type": "markdown",
   "metadata": {},
   "source": [
    "```python\n",
    "np.genfromtxt(fname, dtype=<class 'float'>, comments='#',\n",
    "                delimiter=None, skip_header=0, skip_footer=0, converters=None,\n",
    "                missing_values=None, filling_values=None, usecols=None, names=None,\n",
    "                excludelist=None, deletechars=\" !#$%&'()*+, -./:;<=>?@[\\\\]^{|}~\",\n",
    "                replace_space='_', autostrip=False, case_sensitive=True, defaultfmt='f%i',\n",
    "                unpack=None, usemask=False, loose=True, invalid_raise=True, max_rows=None,\n",
    "                encoding=None, *, ndmin=0, like=None)\n",
    "```\n",
    "\n",
    "__[Go to Documentation](https://numpy.org/doc/stable/reference/generated/numpy.genfromtxt.html)__"
   ]
  },
  {
   "cell_type": "markdown",
   "metadata": {},
   "source": [
    "to avoid creating lots of text sample in hard disk we will use `io` to fake it\n",
    "\n",
    "io.StringIO() will return us a class just like a file we opened but its actually in the memory and not in the disk"
   ]
  },
  {
   "cell_type": "markdown",
   "metadata": {},
   "source": [
    "## fname"
   ]
  },
  {
   "cell_type": "markdown",
   "metadata": {},
   "source": [
    "\n",
    "fname: file, str, pathlib.Path, list of str, generator\n",
    "File, filename, list, or generator to read. If the filename extension is .gz or .bz2, the file is first decompressed. Note that generators must return bytes or strings. The strings in a list or produced by a generator are treated as lines."
   ]
  },
  {
   "cell_type": "markdown",
   "metadata": {},
   "source": [
    "## dtype"
   ]
  },
  {
   "cell_type": "markdown",
   "metadata": {},
   "source": [
    "- optional\n",
    "- Data type of the resulting array. If None, the dtypes will be determined by the contents of each column, individually."
   ]
  },
  {
   "cell_type": "markdown",
   "metadata": {},
   "source": [
    "## comments"
   ]
  },
  {
   "cell_type": "markdown",
   "metadata": {},
   "source": [
    "- default = \"#\" (optional)\n",
    "- The character used to indicate the start of a comment. All the characters occurring on a line __after__ a comment are discarded."
   ]
  },
  {
   "cell_type": "code",
   "execution_count": 147,
   "metadata": {},
   "outputs": [
    {
     "data": {
      "text/plain": [
       "array([[ 1,  2,  3,  4],\n",
       "       [ 5,  6,  7,  8],\n",
       "       [10, 11, 12, 13]])"
      ]
     },
     "execution_count": 147,
     "metadata": {},
     "output_type": "execute_result"
    }
   ],
   "source": [
    "text_file = io.StringIO(\"\"\"\n",
    "1 2 3 4\n",
    "# a comment which contains the whole file\n",
    "5 6 7 8 # this is a comment but the beginning of the line isn't\n",
    "10 11 12 13\n",
    "\"\"\")\n",
    "\n",
    "arr_1 = np.genfromtxt(text_file, dtype=int)\n",
    "arr_1"
   ]
  },
  {
   "cell_type": "markdown",
   "metadata": {},
   "source": [
    "## delimiter"
   ]
  },
  {
   "cell_type": "markdown",
   "metadata": {},
   "source": [
    "- str, int, or sequence, optional\n",
    "- The string used to separate values.\n",
    "- By default, any consecutive whitespaces act as delimiter.\n",
    "- An integer or sequence of integers can also be provided as width(s) of each field.\n",
    "- new lines(\\n) also make element separated"
   ]
  },
  {
   "cell_type": "code",
   "execution_count": 148,
   "metadata": {},
   "outputs": [
    {
     "data": {
      "text/plain": [
       "array([[  1,  22, 333],\n",
       "       [  4,  55, 666],\n",
       "       [  7,  88, 999]])"
      ]
     },
     "execution_count": 148,
     "metadata": {},
     "output_type": "execute_result"
    }
   ],
   "source": [
    "text_file1 = io.StringIO(\"\"\"\n",
    "1, 22, 333\n",
    "4, 55, 666\n",
    "7, 88, 999\n",
    "\"\"\")\n",
    "\n",
    "arr_2 = np.genfromtxt(text_file1, dtype=int, delimiter=',')\n",
    "arr_2"
   ]
  },
  {
   "cell_type": "markdown",
   "metadata": {},
   "source": [
    "### we can also use int to specify a width\n",
    "\n",
    "\n",
    "in some cases it may error to return us, for example if there will be no int in specified area, it will return -1\n",
    "\n",
    "in example below delimiter is set to two and first two characters are ``1,`` so it cant convert the comma into a int so it will do like this:"
   ]
  },
  {
   "cell_type": "code",
   "execution_count": 149,
   "metadata": {},
   "outputs": [
    {
     "data": {
      "text/plain": [
       "array([[-1,  2, -1,  3, 33],\n",
       "       [-1,  5, -1,  6, 66],\n",
       "       [-1,  8, -1,  9, 99]])"
      ]
     },
     "execution_count": 149,
     "metadata": {},
     "output_type": "execute_result"
    }
   ],
   "source": [
    "text_file2 = io.StringIO(\"1, 22, 333\\n4, 55, 666\\n7, 88, 999\")\n",
    "arr_3 = np.genfromtxt(text_file2, dtype=int, delimiter=2)\n",
    "arr_3"
   ]
  },
  {
   "cell_type": "markdown",
   "metadata": {},
   "source": [
    "### and its possible to provide a sequence like this:"
   ]
  },
  {
   "cell_type": "markdown",
   "metadata": {},
   "source": [
    "in this method we can declare how many cols we wish to have for example in below example our output will have 2 cols since we declare 2 numbers"
   ]
  },
  {
   "cell_type": "code",
   "execution_count": 150,
   "metadata": {},
   "outputs": [
    {
     "data": {
      "text/plain": [
       "array([  123, 45678])"
      ]
     },
     "execution_count": 150,
     "metadata": {},
     "output_type": "execute_result"
    }
   ],
   "source": [
    "text_file3 = io.StringIO(\"123456789\")\n",
    "\n",
    "arr_4 = np.genfromtxt(text_file3, dtype=int, delimiter=(3, 5))\n",
    "arr_4"
   ]
  },
  {
   "cell_type": "markdown",
   "metadata": {},
   "source": [
    "in this method if we select whites-paces, it will ignore them (while still counting):"
   ]
  },
  {
   "cell_type": "code",
   "execution_count": 151,
   "metadata": {},
   "outputs": [
    {
     "data": {
      "text/plain": [
       "array([[123, 100],\n",
       "       [345, 200]])"
      ]
     },
     "execution_count": 151,
     "metadata": {},
     "output_type": "execute_result"
    }
   ],
   "source": [
    "text_file4 = io.StringIO(\"123 1000000\\n345 200  22\")\n",
    "\n",
    "arr_5 = np.genfromtxt(text_file4, dtype=int, delimiter=(3, 4))\n",
    "\"\"\"\n",
    "here in the first row it will select 123, and then it select the next 4 characters which are ' 100' and it will ignore the first white space and convert it to int 100\n",
    "then ignore the remaining 0s and go to the next line, on the next line it again ignore the whitespace and 22 in the end of the line\n",
    "\"\"\"\n",
    "arr_5"
   ]
  },
  {
   "cell_type": "markdown",
   "metadata": {},
   "source": [
    "## autostrip"
   ]
  },
  {
   "cell_type": "markdown",
   "metadata": {},
   "source": [
    "- bool\n",
    "- default = False (optional)\n",
    "- Whether to automatically strip white spaces from the variables."
   ]
  },
  {
   "cell_type": "code",
   "execution_count": 152,
   "metadata": {},
   "outputs": [
    {
     "data": {
      "text/plain": [
       "array([[b'hi', b' parh'],\n",
       "       [b'numpy', b' pyth']], dtype='|S5')"
      ]
     },
     "execution_count": 152,
     "metadata": {},
     "output_type": "execute_result"
    }
   ],
   "source": [
    "text_file5 = io.StringIO(\"hi, parham \\n numpy, python\")\n",
    "\n",
    "arr_6 = np.genfromtxt(text_file5, dtype=\"S5\", delimiter=\",\", autostrip=False)\n",
    "\n",
    "arr_6"
   ]
  },
  {
   "cell_type": "code",
   "execution_count": 153,
   "metadata": {},
   "outputs": [
    {
     "data": {
      "text/plain": [
       "array([[b'hi', b'parha'],\n",
       "       [b'numpy', b'pytho']], dtype='|S5')"
      ]
     },
     "execution_count": 153,
     "metadata": {},
     "output_type": "execute_result"
    }
   ],
   "source": [
    "text_file6 = io.StringIO(\"hi, parham \\n numpy, python\")\n",
    "\n",
    "arr_7 = np.genfromtxt(text_file6, dtype=\"S5\", delimiter=\",\", autostrip=True)\n",
    "\n",
    "arr_7"
   ]
  },
  {
   "cell_type": "markdown",
   "metadata": {},
   "source": [
    "as you can see when it strip a white space it wont count it  \n",
    "so in later scenario unlike the first one (where autostrip was False just like default),it also selected a in parham and o in python as their 5th character"
   ]
  },
  {
   "cell_type": "markdown",
   "metadata": {},
   "source": [
    "## skip_header & skip_footer"
   ]
  },
  {
   "cell_type": "markdown",
   "metadata": {},
   "source": [
    "- both are int and are optional\n"
   ]
  },
  {
   "cell_type": "code",
   "execution_count": 154,
   "metadata": {},
   "outputs": [
    {
     "data": {
      "text/plain": [
       "array([[ 0, 20,  0],\n",
       "       [ 1, 22,  0],\n",
       "       [ 2, 40,  1],\n",
       "       [ 3, 44,  1]])"
      ]
     },
     "execution_count": 154,
     "metadata": {},
     "output_type": "execute_result"
    }
   ],
   "source": [
    "text_file7 = io.StringIO(\"\"\"lets imagine its a header for the file\n",
    "which will provide some information about data set or something\n",
    "or think of the headers in CSV files like:\n",
    "id, age, sex\n",
    "0, 20, 0\n",
    "1, 22, 0\n",
    "2, 40, 1\n",
    "3, 44, 1\n",
    "end of the dataset :D\n",
    "\"\"\")\n",
    "\n",
    "arr_8 = np.genfromtxt(text_file7, dtype=int,  delimiter=\",\", skip_header=4, skip_footer=1)\n",
    "\n",
    "arr_8"
   ]
  },
  {
   "cell_type": "markdown",
   "metadata": {},
   "source": [
    "## usecols\n"
   ]
  },
  {
   "cell_type": "markdown",
   "metadata": {},
   "source": [
    "- sequence, optional\n",
    "- Which columns to read, with 0 being the first. For example, usecols = (1, 4, 5) will extract the 2nd, 5th and 6th columns.\n",
    "- negative indices also work\n",
    "- you can also use names of the columns"
   ]
  },
  {
   "cell_type": "code",
   "execution_count": 155,
   "metadata": {},
   "outputs": [
    {
     "data": {
      "text/plain": [
       "array([[ 2,  3,  4],\n",
       "       [20, 30, 40]])"
      ]
     },
     "execution_count": 155,
     "metadata": {},
     "output_type": "execute_result"
    }
   ],
   "source": [
    "text_file8 = io.StringIO(\"1 2 3 4\\n10 20 30 40\")\n",
    "\n",
    "arr_9 = np.genfromtxt(text_file8, dtype=int, usecols=(1, 2, -1)) \n",
    "\n",
    "arr_9"
   ]
  },
  {
   "cell_type": "code",
   "execution_count": 156,
   "metadata": {},
   "outputs": [
    {
     "data": {
      "text/plain": [
       "array([( 3,  1), (30, 10)], dtype=[('parham', '<i8'), ('ID', '<i8')])"
      ]
     },
     "execution_count": 156,
     "metadata": {},
     "output_type": "execute_result"
    }
   ],
   "source": [
    "text_file9 = io.StringIO(\"1 2 3\\n10 20 30\")\n",
    "\n",
    "arr_10 = np.genfromtxt(text_file9, dtype=int,names=(\"ID\", \"age\", \"parham\"),  usecols=(-1, \"ID\")) \n",
    "# will return the last column(-1) as first column and the first column called \"ID\" as second column:\n",
    "arr_10"
   ]
  },
  {
   "cell_type": "markdown",
   "metadata": {},
   "source": [
    "## names"
   ]
  },
  {
   "cell_type": "markdown",
   "metadata": {},
   "source": [
    "- {None, True, str, sequence}, optional\n",
    "- If names is True, the field names are read from the first line after the first skip_header lines.\n",
    "    - This line can optionally be preceded by a comment delimiter.\n",
    "    - Any content before the comment delimiter is discarded.\n",
    "- If names is a sequence or a single-string of comma-separated names, the names will be used to define the field names in a structured dtype\n",
    "- If names is None, the names of the dtype fields will be used, if any."
   ]
  },
  {
   "cell_type": "code",
   "execution_count": 157,
   "metadata": {},
   "outputs": [
    {
     "data": {
      "text/plain": [
       "array([(20,  70, 170), (90, 190, 100), (30,  50, 160)],\n",
       "      dtype=[('age', '<i8'), ('weight', '<i8'), ('hight', '<i8')])"
      ]
     },
     "execution_count": 157,
     "metadata": {},
     "output_type": "execute_result"
    }
   ],
   "source": [
    "text_file10 = io.StringIO(\"\"\"this is header\n",
    "and this one is also header\n",
    "age, weight, hight\n",
    "20, 70, 170\n",
    "90, 190, 100\n",
    "30, 50, 160\n",
    "\"\"\")\n",
    "\n",
    "arr_11 = np.genfromtxt(text_file10, dtype=int,names=True, skip_header=2, delimiter=',')\n",
    "arr_11"
   ]
  },
  {
   "cell_type": "markdown",
   "metadata": {},
   "source": [
    "even if the first line after the header was a comment it would use the comment:"
   ]
  },
  {
   "cell_type": "code",
   "execution_count": 158,
   "metadata": {},
   "outputs": [
    {
     "data": {
      "text/plain": [
       "array([(20,  70, 170), (90, 190, 100), (30,  50, 160)],\n",
       "      dtype=[('age', '<i8'), ('weight', '<i8'), ('hight', '<i8')])"
      ]
     },
     "execution_count": 158,
     "metadata": {},
     "output_type": "execute_result"
    }
   ],
   "source": [
    "text_file11 = io.StringIO(\"\"\"this is header\n",
    "and this one is also header\n",
    "#age, #weight, #hight\n",
    "20, 70, 170\n",
    "90, 190, 100\n",
    "30, 50, 160\n",
    "\"\"\")\n",
    "\n",
    "arr_12 = np.genfromtxt(text_file11, dtype=int,names=True, skip_header=2, delimiter=',')\n",
    "arr_12"
   ]
  },
  {
   "cell_type": "markdown",
   "metadata": {},
   "source": [
    "we can use a comma separated string too:"
   ]
  },
  {
   "cell_type": "code",
   "execution_count": 159,
   "metadata": {},
   "outputs": [
    {
     "data": {
      "text/plain": [
       "array([(20,  70, 170), (90, 190, 100), (30,  50, 160)],\n",
       "      dtype=[('age', '<i8'), ('weight', '<i8'), ('hight', '<i8')])"
      ]
     },
     "execution_count": 159,
     "metadata": {},
     "output_type": "execute_result"
    }
   ],
   "source": [
    "text_file12 = io.StringIO(\"\"\"\n",
    "20, 70, 170\n",
    "90, 190, 100\n",
    "30, 50, 160\n",
    "\"\"\")\n",
    "arr_13 = np.genfromtxt(text_file12, dtype=int,names='age, weight, hight', delimiter=',')\n",
    "arr_13"
   ]
  },
  {
   "cell_type": "markdown",
   "metadata": {},
   "source": [
    "or we can use dtype to do that:"
   ]
  },
  {
   "cell_type": "code",
   "execution_count": 160,
   "metadata": {},
   "outputs": [
    {
     "data": {
      "text/plain": [
       "array([(20,  70, 170), (90, 190, 100), (30,  50, 160)],\n",
       "      dtype=[('age', '<i8'), ('weight', '<i8'), ('hight', '<i8')])"
      ]
     },
     "execution_count": 160,
     "metadata": {},
     "output_type": "execute_result"
    }
   ],
   "source": [
    "text_file13 = io.StringIO(\"\"\"\n",
    "20, 70, 170\n",
    "90, 190, 100\n",
    "30, 50, 160\n",
    "\"\"\")\n",
    "arr_14 = np.genfromtxt(text_file13, dtype=[(name, int) for name in ['age', 'weight', 'hight']], delimiter=',')\n",
    "arr_14"
   ]
  },
  {
   "cell_type": "markdown",
   "metadata": {},
   "source": [
    "## defaultfmt\n",
    "   "
   ]
  },
  {
   "cell_type": "markdown",
   "metadata": {},
   "source": [
    "- str\n",
    "- default = 'f%i' (optional)\n",
    "    - f is just f but i is auto incremented integer starting from 0\n",
    "\n",
    "in below example ill modify dtypes to show the col names in output:"
   ]
  },
  {
   "cell_type": "code",
   "execution_count": 161,
   "metadata": {},
   "outputs": [
    {
     "data": {
      "text/plain": [
       "array([(20,  70., 170.), (90, 190., 100.), (30,  50., 160.)],\n",
       "      dtype=[('f0', '<i8'), ('f1', '<f8'), ('f2', '<f8')])"
      ]
     },
     "execution_count": 161,
     "metadata": {},
     "output_type": "execute_result"
    }
   ],
   "source": [
    "text_file14 = io.StringIO(\"\"\"\n",
    "20, 70, 170\n",
    "90, 190, 100\n",
    "30, 50, 160\n",
    "\"\"\")\n",
    "arr_15 = np.genfromtxt(text_file14, delimiter=',', dtype=(int, float, float))\n",
    "arr_15"
   ]
  },
  {
   "cell_type": "markdown",
   "metadata": {},
   "source": [
    "we can change the default naming like this: "
   ]
  },
  {
   "cell_type": "code",
   "execution_count": 162,
   "metadata": {},
   "outputs": [
    {
     "data": {
      "text/plain": [
       "array([(20,  70., 170.), (90, 190., 100.), (30,  50., 160.)],\n",
       "      dtype=[('parham_0', '<i8'), ('parham_1', '<f8'), ('parham_2', '<f8')])"
      ]
     },
     "execution_count": 162,
     "metadata": {},
     "output_type": "execute_result"
    }
   ],
   "source": [
    "text_file15 = io.StringIO(\"\"\"\n",
    "20, 70, 170\n",
    "90, 190, 100\n",
    "30, 50, 160\n",
    "\"\"\")\n",
    "arr_16 = np.genfromtxt(text_file15, delimiter=',', dtype=(int, float, float), defaultfmt=\"parham_%i\")\n",
    "arr_16"
   ]
  },
  {
   "cell_type": "markdown",
   "metadata": {},
   "source": [
    "there is 2 points:\n",
    "1. we can also use other formats like %d or %e too\n",
    "2. it is not index so if we manually name one it wont count the named col\n",
    "\n",
    "take a look at example below:"
   ]
  },
  {
   "cell_type": "code",
   "execution_count": 163,
   "metadata": {},
   "outputs": [
    {
     "data": {
      "text/plain": [
       "array([(20,  70., 170.), (90, 190., 100.), (30,  50., 160.)],\n",
       "      dtype=[('firstcol', '<i8'), ('parham_00', '<f8'), ('parham_01', '<f8')])"
      ]
     },
     "execution_count": 163,
     "metadata": {},
     "output_type": "execute_result"
    }
   ],
   "source": [
    "text_file16 = io.StringIO(\"\"\"\n",
    "20, 70, 170\n",
    "90, 190, 100\n",
    "30, 50, 160\n",
    "\"\"\")\n",
    "arr_17 = np.genfromtxt(text_file16, delimiter=',', dtype=(int, float, float), defaultfmt=\"parham_%02d\", names=\"firstcol\")\n",
    "# since we call our first col as 'first_col' the second col wont be parham_01 but it will be named as parham_00\n",
    "# in other words, it wont count the manually named columns\n",
    "arr_17"
   ]
  },
  {
   "cell_type": "markdown",
   "metadata": {},
   "source": [
    "## __converters & bad data__"
   ]
  },
  {
   "cell_type": "markdown",
   "metadata": {},
   "source": [
    "- he set of functions that convert the data of a column to a value. \n",
    "- The converters can also be used to provide a default value for missing data: converters = {3: lambda s: float(s or 0)}.\n",
    "- you can either use the name of the column or its index in the dictionary\n",
    "\n",
    "for example imagine we have a dataset like this:\n",
    "```csv\n",
    "id, win_rate, class\n",
    "1,   40%,     2\n",
    "2,   33%,     1\n",
    "3,   70%,     1\n",
    "```\n",
    "in this example we want integer value of that probability not its percentage so we should use convertors for that coll:"
   ]
  },
  {
   "cell_type": "code",
   "execution_count": 164,
   "metadata": {},
   "outputs": [
    {
     "data": {
      "text/plain": [
       "array([[ 1., nan,  2.],\n",
       "       [ 2., nan,  1.],\n",
       "       [ 3., nan,  1.]])"
      ]
     },
     "execution_count": 164,
     "metadata": {},
     "output_type": "execute_result"
    }
   ],
   "source": [
    "text_file17 = io.StringIO(\"\"\"\n",
    "1, 40%, 2\n",
    "2, 33%, 1\n",
    "3, 70%, 1\n",
    "\"\"\")\n",
    "\n",
    "arr_18 = np.genfromtxt(text_file17, delimiter=\",\")\n",
    "\n",
    "arr_18"
   ]
  },
  {
   "cell_type": "markdown",
   "metadata": {},
   "source": [
    "in previous example numpy failed to convert the values of second column to float so it replace them with `nan` which means `Not a Number`,\n",
    "lets use convertors to fix it:"
   ]
  },
  {
   "cell_type": "code",
   "execution_count": 165,
   "metadata": {},
   "outputs": [
    {
     "data": {
      "text/plain": [
       "array([[1.  , 0.4 , 2.  ],\n",
       "       [2.  , 0.33, 1.  ],\n",
       "       [3.  , 0.7 , 1.  ]])"
      ]
     },
     "execution_count": 165,
     "metadata": {},
     "output_type": "execute_result"
    }
   ],
   "source": [
    "text_file18 = io.StringIO(\"\"\"\n",
    "1, 40%, 2\n",
    "2, 33%, 1\n",
    "3, 70%, 1\n",
    "\"\"\")\n",
    "\n",
    "my_convertor = lambda x: int(x.strip(b\"%\")) / 100\n",
    "\n",
    "arr_19 = np.genfromtxt(text_file18, delimiter=\",\", converters={1: my_convertor})\n",
    "arr_19"
   ]
  },
  {
   "cell_type": "markdown",
   "metadata": {},
   "source": [
    "we could use col name too:"
   ]
  },
  {
   "cell_type": "code",
   "execution_count": 166,
   "metadata": {},
   "outputs": [
    {
     "data": {
      "text/plain": [
       "array([(1., 0.4 , 2.), (2., 0.33, 1.), (3., 0.7 , 1.)],\n",
       "      dtype=[('id', '<f8'), ('winrate', '<f8'), ('class', '<f8')])"
      ]
     },
     "execution_count": 166,
     "metadata": {},
     "output_type": "execute_result"
    }
   ],
   "source": [
    "text_file19 = io.StringIO(\"\"\"\n",
    "1, 40%, 2\n",
    "2, 33%, 1\n",
    "3, 70%, 1\n",
    "\"\"\")\n",
    "my_convertor = lambda x: int(x.strip(b\"%\")) / 100\n",
    "\n",
    "# arr_20 = np.genfromtxt(text_file18, delimiter=\",\", names=\"id, winrate, class\", converters={\"winrate\": my_convertor})\n",
    "# or a nicer way to define a dictionary without a need for quotations:\n",
    "arr_20 = np.genfromtxt(text_file19, delimiter=\",\", names=\"id, winrate, class\", converters=dict(winrate = my_convertor))\n",
    "\n",
    "arr_20"
   ]
  },
  {
   "cell_type": "markdown",
   "metadata": {},
   "source": [
    "## __missing_values & filling_values__"
   ]
  },
  {
   "cell_type": "markdown",
   "metadata": {},
   "source": [
    "__missing_values__:\n",
    "-  The set of strings corresponding to missing data.\n",
    "- default = None (optional)\n",
    "  \n",
    "__filling_values__:\n",
    "- The set of values to be used as default when the data are missing.\n",
    "- it can be either a dict to point each col or a sequence to add a value for missing ones\n",
    "\n"
   ]
  },
  {
   "cell_type": "markdown",
   "metadata": {},
   "source": [
    "### bad data examples:"
   ]
  },
  {
   "cell_type": "markdown",
   "metadata": {},
   "source": [
    "first lets imagine there is a dataset where it has blank blocks like the example below:"
   ]
  },
  {
   "cell_type": "code",
   "execution_count": 167,
   "metadata": {},
   "outputs": [
    {
     "data": {
      "text/plain": [
       "array([(1.,    40, 2.), (2., -9999, 1.), (3.,    70, 1.)],\n",
       "      dtype=[('f0', '<f8'), ('f1', '<i8'), ('f2', '<f8')])"
      ]
     },
     "execution_count": 167,
     "metadata": {},
     "output_type": "execute_result"
    }
   ],
   "source": [
    "text_file20 = io.StringIO(\"\"\"\n",
    "1, 40, 2\n",
    "2,   , 1\n",
    "3, 70, 1\n",
    "\"\"\")\n",
    "# in this example there is a missing data in [1][1] which is blank\n",
    "\n",
    "\n",
    "my_convertor = lambda x: int(x.strip() or -9999)\n",
    "# this convertor will try to strip and then convert to int, if stript return nothing, it will convert -9999 to int\n",
    "# in other words it either try to convert to int or return -9999\n",
    "\n",
    "arr_21 = np.genfromtxt(text_file20, delimiter=\",\", converters={1: my_convertor})\n",
    "\n",
    "arr_21"
   ]
  },
  {
   "cell_type": "markdown",
   "metadata": {},
   "source": [
    "now imagine another example where our missing data is \"N/A\" like this:\n",
    "\n",
    "```csv\n",
    "age, class, score\n",
    "\"N/A\", 2,    3\n",
    " 4,     ,    1\n",
    " 4,    7,    ???\n",
    "```\n",
    "\n",
    "notice we have three different missing data here:\n",
    "- N/A\n",
    "- \" \"\n",
    "- ???\n",
    "\n",
    "we can handle it like this:\n",
    "- declare a dictionary to define a missing value for each row\n",
    "- declare another dictionary to tell it how to replace those missing values\n",
    "- we can you index, negative index and col names to point the desired column"
   ]
  },
  {
   "cell_type": "code",
   "execution_count": 168,
   "metadata": {},
   "outputs": [
    {
     "data": {
      "text/plain": [
       "array([(-1.,    2.,   3.), ( 4., -999.,   1.), ( 4.,    7., 100.)],\n",
       "      dtype=[('A', '<f8'), ('B', '<f8'), ('C', '<f8')])"
      ]
     },
     "execution_count": 168,
     "metadata": {},
     "output_type": "execute_result"
    }
   ],
   "source": [
    "text_file21 = io.StringIO(\"\"\"\n",
    "N/A, 2, 3\n",
    "4, , 1\n",
    "4, 7, ???\n",
    "\"\"\")\n",
    "\n",
    "missing_values_dict = {\n",
    "    0: \"N/A\",\n",
    "    1: \" \",\n",
    "    2: \"???\"\n",
    "}\n",
    "filling_values_dict = {\n",
    "    0: -1,\n",
    "    \"B\": -999,\n",
    "    -1: 100\n",
    "}\n",
    "\n",
    "arr_22 = np.genfromtxt(text_file21, delimiter=\",\", names=\"A, B, C\", missing_values=missing_values_dict, filling_values=filling_values_dict)\n",
    "\n",
    "arr_22"
   ]
  },
  {
   "cell_type": "markdown",
   "metadata": {},
   "source": [
    "naturally we could make it like this for a cleaner code:"
   ]
  },
  {
   "cell_type": "code",
   "execution_count": 169,
   "metadata": {},
   "outputs": [
    {
     "data": {
      "text/plain": [
       "array([(-1.,    2.,   3.), ( 4., -999.,   1.), ( 4.,    7., 100.)],\n",
       "      dtype=[('A', '<f8'), ('B', '<f8'), ('C', '<f8')])"
      ]
     },
     "execution_count": 169,
     "metadata": {},
     "output_type": "execute_result"
    }
   ],
   "source": [
    "text_file22 = io.StringIO(\"\"\"\n",
    "N/A, 2, 3\n",
    "4, , 1\n",
    "4, 7, ???\n",
    "\"\"\")\n",
    "\n",
    "kwargs = dict(\n",
    "delimiter = \",\",\n",
    "names = \"A, B, C\",\n",
    "missing_values = {0: \"N/A\", 1: \" \", 2: \"???\"},\n",
    "filling_values = {0: -1, \"B\": -999, -1: 100}\n",
    ")\n",
    "arr_23 = np.genfromtxt(text_file22, **kwargs)\n",
    "\n",
    "arr_23"
   ]
  },
  {
   "cell_type": "markdown",
   "metadata": {},
   "source": [
    "### a sequence as filling_values \n",
    "\n",
    "in this case we can set a value for each col's missing values:"
   ]
  },
  {
   "cell_type": "code",
   "execution_count": 170,
   "metadata": {},
   "outputs": [
    {
     "data": {
      "text/plain": [
       "array([[-100.,    2.,    3.],\n",
       "       [   4., -200.,    1.],\n",
       "       [   4.,    7., -300.]])"
      ]
     },
     "execution_count": 170,
     "metadata": {},
     "output_type": "execute_result"
    }
   ],
   "source": [
    "text_file23 = io.StringIO(\"\"\"\n",
    "N/A, 2, 3\n",
    "4, , 1\n",
    "4, 7, ???\n",
    "\"\"\")\n",
    "\n",
    "arr_24 = np.genfromtxt(text_file23, delimiter=',', filling_values=(-100, -200, -300))\n",
    "# here the dtype is float(as default) so it can not convert some of them to float so they become missing values and it will fill them,\n",
    "# missing values from the first col will be replace with -100 and for the next col will be -200 and the last one will be -300\n",
    "arr_24"
   ]
  },
  {
   "cell_type": "code",
   "execution_count": null,
   "metadata": {},
   "outputs": [],
   "source": []
  }
 ],
 "metadata": {
  "kernelspec": {
   "display_name": "Python 3",
   "language": "python",
   "name": "python3"
  },
  "language_info": {
   "codemirror_mode": {
    "name": "ipython",
    "version": 3
   },
   "file_extension": ".py",
   "mimetype": "text/x-python",
   "name": "python",
   "nbconvert_exporter": "python",
   "pygments_lexer": "ipython3",
   "version": "3.10.12"
  }
 },
 "nbformat": 4,
 "nbformat_minor": 2
}
