{
 "cells": [
  {
   "cell_type": "markdown",
   "metadata": {},
   "source": [
    "# search\n",
    "- numpy.argmax\n",
    "- numpy.nanargmax\n",
    "- numpy.argmin\n",
    "- numpy.nanargmin\n",
    "- numpy.where\n",
    "- numpy.argwhere\n",
    "- numpy.nanzero\n",
    "- numpy.extract\n"
   ]
  },
  {
   "cell_type": "code",
   "execution_count": 1,
   "metadata": {},
   "outputs": [],
   "source": [
    "import numpy as np\n"
   ]
  },
  {
   "cell_type": "markdown",
   "metadata": {},
   "source": [
    "## numpy.argmax()"
   ]
  },
  {
   "cell_type": "markdown",
   "metadata": {},
   "source": [
    "`numpy.argmax(a, axis=None, out=None, *, keepdims=<no value>)`\n",
    "\n",
    "- `a`: array_like  \n",
    "    - input array\n",
    "    \n",
    "- `axis`:\n",
    "    - __default = None__ (optional)\n",
    "    - if set to an axis will search along with the specified axis\n",
    "    - if remains None(default), the index is into the __flattened__ array\n",
    "    - if remain to None and get flattened index, we can access element's real index using np.unravel_index\n",
    "- `out`: \n",
    "    - array\n",
    "    - default = None (optional)\n",
    "    - if provided, the result will be inserted into this array\n",
    "    - it should be of the appropriate shape and dtype\n",
    "    - if no axis is specified, out should be 0 n-dim array (an empty array)\n",
    "- `keepdims`:\n",
    "    - bool, optional\n",
    "    - f this is set to True, the axes which are reduced are left in the result as dimensions with size one. With this option, the result will broadcast correctly against the array\n",
    "- will find the first max(lowest index)\n"
   ]
  },
  {
   "cell_type": "code",
   "execution_count": 2,
   "metadata": {},
   "outputs": [
    {
     "data": {
      "text/plain": [
       "1"
      ]
     },
     "execution_count": 2,
     "metadata": {},
     "output_type": "execute_result"
    }
   ],
   "source": [
    "arr = np.array([[8, 9, 5],\n",
    "                [6, 5, 1],\n",
    "                [9, 3, 4]])\n",
    "np.argmax(arr)\n",
    "# this will result 1 because flatted arr is like [8, 9, 5, 6, 5, 1, 9, 3, 4]\n",
    "# 9 is max which is index 1 (it won't return 6 for other nine since it will return the first max)\n",
    "\n",
    "# np.argmax(arr, out=np.array(0))       # if we insist to use out, however its kinda useless without axis"
   ]
  },
  {
   "cell_type": "markdown",
   "metadata": {},
   "source": [
    "in previous example we did not specify an axis, so it flattered the array first, then found the biggest number and returned its index\n",
    "we could do the search along with a specific axis like this:"
   ]
  },
  {
   "cell_type": "code",
   "execution_count": 3,
   "metadata": {},
   "outputs": [
    {
     "name": "stdout",
     "output_type": "stream",
     "text": [
      "[[8 9 5]\n",
      " [6 5 1]\n",
      " [9 3 4]]\n"
     ]
    },
    {
     "data": {
      "text/plain": [
       "array([2, 0, 0])"
      ]
     },
     "execution_count": 3,
     "metadata": {},
     "output_type": "execute_result"
    }
   ],
   "source": [
    "arr = np.array([[8, 9, 5],\n",
    "                [6, 5, 1],\n",
    "                [9, 3, 4]])\n",
    "print(arr)\n",
    "np.argmax(arr, axis=0)"
   ]
  },
  {
   "cell_type": "markdown",
   "metadata": {},
   "source": [
    "\n",
    "in previous example we specified axis to 0, so it will search along with the axis 0,\n",
    "so at first it select 9 for the first col and return its index, then do the same for other columns\n",
    "so the result is [2 0 0] since last row in first column and first row in other columns are the biggest in axis_0  \n",
    "\n",
    "__naturally numpy axes are like this: arr[axis_0][axis_1][axis_2] . . . so:__  \n",
    "\n",
    "when we specify `axis = 0`, the max result are like this pattern:  \n",
    "`arr[?][0], arr[?][1], arr[?][2]` where `?` will replace with index with highest output  \n",
    "\n",
    "but if we set `axis = 1`, it will be something like this:  \n",
    "`arr[0][?], arr[1][?], arr[2][?]` again the `?` will be replaced with the value with highest output  \n",
    "\n",
    "\n",
    "so, in our array the ? for axis=1 should be like this:   \n",
    "`arr[0][1], arr[1][0], arr[2][0]`  \n",
    "\n",
    "so if we run np.argmax(arr, axis=1), the result should be a array like this:  \n",
    "[1, 0, 0]\n",
    "\n"
   ]
  },
  {
   "cell_type": "code",
   "execution_count": 4,
   "metadata": {},
   "outputs": [
    {
     "name": "stdout",
     "output_type": "stream",
     "text": [
      "[[8 9 5]\n",
      " [6 5 1]\n",
      " [9 3 4]]\n"
     ]
    },
    {
     "data": {
      "text/plain": [
       "array([1, 0, 0])"
      ]
     },
     "execution_count": 4,
     "metadata": {},
     "output_type": "execute_result"
    }
   ],
   "source": [
    "arr = np.array([[8, 9, 5],\n",
    "                [6, 5, 1],\n",
    "                [9, 3, 4]])\n",
    "print(arr)\n",
    "np.argmax(arr, axis=1)"
   ]
  },
  {
   "cell_type": "markdown",
   "metadata": {},
   "source": [
    "official document examples:"
   ]
  },
  {
   "cell_type": "code",
   "execution_count": 5,
   "metadata": {},
   "outputs": [
    {
     "data": {
      "text/plain": [
       "5"
      ]
     },
     "execution_count": 5,
     "metadata": {},
     "output_type": "execute_result"
    }
   ],
   "source": [
    "arr = np.array([[10, 11, 12],\n",
    "                [13, 14, 15]])\n",
    "np.argmax(arr)              # will return 5 since flatted_arr[5] or arr.reshape(6)[5] is the biggest \n"
   ]
  },
  {
   "cell_type": "code",
   "execution_count": 6,
   "metadata": {},
   "outputs": [
    {
     "name": "stdout",
     "output_type": "stream",
     "text": [
      "[[10 11 12]\n",
      " [13 14 15]]\n",
      "[1 1 1]\n",
      "[2 2]\n"
     ]
    }
   ],
   "source": [
    "arr = np.array([[10, 11, 12],\n",
    "                [13, 14, 15]])\n",
    "print(arr)\n",
    "print(np.argmax(arr, axis=0))\n",
    "print(np.argmax(arr, axis=1))"
   ]
  },
  {
   "cell_type": "code",
   "execution_count": 7,
   "metadata": {},
   "outputs": [
    {
     "name": "stdout",
     "output_type": "stream",
     "text": [
      "[[10 11 12]\n",
      " [13 14 15]]\n"
     ]
    },
    {
     "data": {
      "text/plain": [
       "15"
      ]
     },
     "execution_count": 7,
     "metadata": {},
     "output_type": "execute_result"
    }
   ],
   "source": [
    "arr = np.array([[10, 11, 12],\n",
    "                [13, 14, 15]])\n",
    "ind = np.unravel_index(np.argmax(arr, axis=None), arr.shape)\n",
    "print(arr)\n",
    "arr[ind]"
   ]
  },
  {
   "cell_type": "code",
   "execution_count": 8,
   "metadata": {},
   "outputs": [
    {
     "name": "stdout",
     "output_type": "stream",
     "text": [
      "[0 5 2 3 4 5]\n"
     ]
    },
    {
     "data": {
      "text/plain": [
       "1"
      ]
     },
     "execution_count": 8,
     "metadata": {},
     "output_type": "execute_result"
    }
   ],
   "source": [
    "b = np.arange(6)\n",
    "b[1] = 5\n",
    "print(b)\n",
    "np.argmax(b)  # Only the first occurrence is returned."
   ]
  },
  {
   "cell_type": "code",
   "execution_count": 9,
   "metadata": {},
   "outputs": [
    {
     "name": "stdout",
     "output_type": "stream",
     "text": [
      "(2, 4)\n",
      "(2, 1, 4)\n"
     ]
    }
   ],
   "source": [
    "x = np.arange(24).reshape((2, 3, 4))\n",
    "res = np.argmax(x, axis=1)\n",
    "print(res.shape)\n",
    "res = np.argmax(x, axis=1, keepdims=True)\n",
    "print(res.shape)\n"
   ]
  },
  {
   "cell_type": "markdown",
   "metadata": {},
   "source": [
    "## numpy.nanargmax()"
   ]
  },
  {
   "cell_type": "markdown",
   "metadata": {},
   "source": [
    "just like numpy.nanargmax() but will ignore np.nan "
   ]
  },
  {
   "cell_type": "code",
   "execution_count": 10,
   "metadata": {},
   "outputs": [
    {
     "name": "stdout",
     "output_type": "stream",
     "text": [
      "0\n",
      "1\n",
      "[1 0]\n",
      "[1 1]\n"
     ]
    }
   ],
   "source": [
    "arr = np.array([[np.nan, 4], [2, 3]])\n",
    "\n",
    "print(np.argmax(arr))\n",
    "print(np.nanargmax(arr))\n",
    "\n",
    "print(np.nanargmax(arr, axis=0))\n",
    "print(np.nanargmax(arr, axis=1))\n"
   ]
  },
  {
   "cell_type": "markdown",
   "metadata": {},
   "source": [
    "## numpy.argmin() & numpy.nanargmin()\n",
    " "
   ]
  },
  {
   "cell_type": "markdown",
   "metadata": {},
   "source": [
    "clearly just like argmax and nanargmax but the opposite(will return the indices of smallest instead)"
   ]
  },
  {
   "cell_type": "markdown",
   "metadata": {},
   "source": [
    "## numpy.where()"
   ]
  },
  {
   "cell_type": "markdown",
   "metadata": {},
   "source": [
    "`numpy.where(condition, [x, y, ]/)`  \n",
    "Return elements chosen from x or y depending on condition.\n",
    "\n",
    "__note__:  \n",
    "    When only condition is provided, this function is a shorthand for `np.asarray(condition).nonzero()`.  \n",
    "    __Using `nonzero` directly should be preferred__, as it behaves correctly for subclasses.  \n",
    "    The rest of this documentation covers only the case where all three arguments are provided.\n",
    "```python\n",
    "arr = np.array([[1, 5, 3], [2, 1, 7]])\n",
    "np.where(arr - 5)                   # this line and next line result the same\n",
    "np.asanyarray(arr - 5).nonzero()    # this line and previous line result the same\n",
    "```  \n",
    "\n",
    "\n",
    "- `condition`: array_like, bool\n",
    "    - where True, yield x\n",
    "    - otherwise yield y\n",
    "\n",
    "- `x, y`: array_like\n",
    "    - Values from which to choose. x, y and condition need to be broadcastable to some shape.\n",
    "    - either a fixed value to be broadcasted, or an array_like with same shape as condition"
   ]
  },
  {
   "cell_type": "code",
   "execution_count": 11,
   "metadata": {},
   "outputs": [
    {
     "data": {
      "text/plain": [
       "array(['Small', 'Big', 'Small', 'Small', 'Small', 'Big'], dtype='<U5')"
      ]
     },
     "execution_count": 11,
     "metadata": {},
     "output_type": "execute_result"
    }
   ],
   "source": [
    "arr = np.array([1, 5, 3, 2, 1, 7])\n",
    "\n",
    "\n",
    "np.where(arr > 4, \"Big\", \"Small\")"
   ]
  },
  {
   "cell_type": "code",
   "execution_count": 12,
   "metadata": {},
   "outputs": [
    {
     "data": {
      "text/plain": [
       "array(['small', '2000', 'small', 'small', 'small', '6000'], dtype='<U21')"
      ]
     },
     "execution_count": 12,
     "metadata": {},
     "output_type": "execute_result"
    }
   ],
   "source": [
    "arr = np.array([1, 5, 3, 2, 1, 7])\n",
    "a = [1000, 2000, 3000, 4000, 5000, 6000]\n",
    "np.where(arr > 4, a, \"small\")\n"
   ]
  },
  {
   "cell_type": "code",
   "execution_count": 13,
   "metadata": {},
   "outputs": [
    {
     "name": "stdout",
     "output_type": "stream",
     "text": [
      "[0 1 2 3 4 5 6 7 8 9]\n"
     ]
    },
    {
     "data": {
      "text/plain": [
       "array([ 0,  1,  2,  3,  4, 50, 60, 70, 80, 90])"
      ]
     },
     "execution_count": 13,
     "metadata": {},
     "output_type": "execute_result"
    }
   ],
   "source": [
    "a = np.arange(10)\n",
    "print(a)\n",
    "np.where(a < 5, a, 10*a)"
   ]
  },
  {
   "cell_type": "code",
   "execution_count": 14,
   "metadata": {},
   "outputs": [
    {
     "data": {
      "text/plain": [
       "array([[1, 8],\n",
       "       [3, 4]])"
      ]
     },
     "execution_count": 14,
     "metadata": {},
     "output_type": "execute_result"
    }
   ],
   "source": [
    "np.where([[True, False], [True, True]],\n",
    "         [[1, 2], [3, 4]],\n",
    "         [[9, 8], [7, 6]])"
   ]
  },
  {
   "cell_type": "markdown",
   "metadata": {},
   "source": [
    "## numpy.argwhere()"
   ]
  },
  {
   "cell_type": "markdown",
   "metadata": {},
   "source": [
    "`numpy.argwhere(a)`  \n",
    "Find the indices of array elements that are __non-zero__(or not Falsy), grouped by element.\n",
    "\n",
    "- `a`: array_like\n",
    "    - input data\n",
    "- Return -> \n",
    "    - index_array: (N, a.ndim) ndarray\n",
    "    - indices of elements that are non-zero\n",
    "    - Indices are __grouped__ by element\n",
    "    -  This array will have shape (N, a.ndim) where N is the number of non-zero items.\n",
    "\n",
    "__note__:\n",
    "- np.argwhere(a) is almost the same as` np.transpose(np.nonzero(a))`, but produces a result of the correct shape for a 0D array.\n",
    "- The output of `np.argwhere` is not suitable for indexing arrays. For this purpose use `np.nonzero(a)` instead."
   ]
  },
  {
   "cell_type": "code",
   "execution_count": 15,
   "metadata": {},
   "outputs": [
    {
     "data": {
      "text/plain": [
       "array([[0, 0],\n",
       "       [0, 2],\n",
       "       [1, 1],\n",
       "       [1, 2]])"
      ]
     },
     "execution_count": 15,
     "metadata": {},
     "output_type": "execute_result"
    }
   ],
   "source": [
    "data = np.array([[10, 0, 13], [0, 17, 19]])\n",
    "np.argwhere(data)\n",
    "# this is not how this method supposed to be used \n"
   ]
  },
  {
   "cell_type": "code",
   "execution_count": 16,
   "metadata": {},
   "outputs": [
    {
     "data": {
      "text/plain": [
       "array([[0, 0],\n",
       "       [0, 1],\n",
       "       [0, 2],\n",
       "       [1, 0],\n",
       "       [1, 1],\n",
       "       [1, 2]])"
      ]
     },
     "execution_count": 16,
     "metadata": {},
     "output_type": "execute_result"
    }
   ],
   "source": [
    "data = np.array([[10, 0, 13], [0, 17, 19]])\n",
    "np.argwhere(data >= 0)      # where there is no negative"
   ]
  },
  {
   "cell_type": "code",
   "execution_count": 17,
   "metadata": {},
   "outputs": [
    {
     "data": {
      "text/plain": [
       "array([[0, 0],\n",
       "       [0, 2],\n",
       "       [1, 1],\n",
       "       [1, 2]])"
      ]
     },
     "execution_count": 17,
     "metadata": {},
     "output_type": "execute_result"
    }
   ],
   "source": [
    "data = np.array([[10, 0, 13], [0, 17, 19]])\n",
    "np.argwhere(data >= 5)      # where equal or bigger than 5"
   ]
  },
  {
   "cell_type": "markdown",
   "metadata": {},
   "source": [
    "## numpy.nonzero()"
   ]
  },
  {
   "cell_type": "markdown",
   "metadata": {},
   "source": [
    "`numpy.nonzero(a)`  \n",
    "Return the indices of the elements that are non-zero.\n",
    "\n",
    "Returns a tuple of arrays, one for each dimension of a, containing the indices of the non-zero elements in that dimension. The values in a are always tested and returned in row-major, C-style order.\n",
    "\n",
    "\n",
    "To group the indices by element, rather than dimension, use` np.argwhere`, which returns a row for each non-zero element.\n",
    "\n",
    "A common use for nonzero is to find the indices of an array, where a condition is True.  \n",
    "Given an array a, the condition a > 3 is a boolean array and since False is interpreted as 0, np.nonzero(a > 3) yields the indices of the a where the condition is true.\n",
    "\n",
    "nonzero can also be called as a method of the array.\n",
    "\n",
    "__note__:\n",
    "- While the nonzero values can be obtained with `a[nonzero(a)]`, it is recommended to use `x[x.astype(bool)]` or `x[x != 0]` instead, which will correctly handle 0-d arrays."
   ]
  },
  {
   "cell_type": "code",
   "execution_count": 18,
   "metadata": {},
   "outputs": [
    {
     "name": "stdout",
     "output_type": "stream",
     "text": [
      "[[3 0 0]\n",
      " [0 4 0]\n",
      " [5 6 0]]\n"
     ]
    },
    {
     "data": {
      "text/plain": [
       "(array([0, 1, 2, 2]), array([0, 1, 0, 1]))"
      ]
     },
     "execution_count": 18,
     "metadata": {},
     "output_type": "execute_result"
    }
   ],
   "source": [
    "x = np.array([[3, 0, 0], [0, 4, 0], [5, 6, 0]])\n",
    "print(x)\n",
    "np.nonzero(x)"
   ]
  },
  {
   "cell_type": "code",
   "execution_count": 19,
   "metadata": {},
   "outputs": [
    {
     "name": "stdout",
     "output_type": "stream",
     "text": [
      "[3 4 5 6]\n"
     ]
    },
    {
     "data": {
      "text/plain": [
       "array([[0, 0],\n",
       "       [1, 1],\n",
       "       [2, 0],\n",
       "       [2, 1]])"
      ]
     },
     "execution_count": 19,
     "metadata": {},
     "output_type": "execute_result"
    }
   ],
   "source": [
    "print(x[np.nonzero(x)])\n",
    "np.transpose(np.nonzero(x))"
   ]
  },
  {
   "cell_type": "code",
   "execution_count": 20,
   "metadata": {},
   "outputs": [
    {
     "name": "stdout",
     "output_type": "stream",
     "text": [
      "[[False False False]\n",
      " [ True  True  True]\n",
      " [ True  True  True]]\n"
     ]
    },
    {
     "data": {
      "text/plain": [
       "(array([1, 1, 1, 2, 2, 2]), array([0, 1, 2, 0, 1, 2]))"
      ]
     },
     "execution_count": 20,
     "metadata": {},
     "output_type": "execute_result"
    }
   ],
   "source": [
    "a = np.array([[1, 2, 3], [4, 5, 6], [7, 8, 9]])\n",
    "print(a > 3)\n",
    "np.nonzero(a > 3)"
   ]
  },
  {
   "cell_type": "code",
   "execution_count": 21,
   "metadata": {},
   "outputs": [
    {
     "name": "stdout",
     "output_type": "stream",
     "text": [
      "[[1 2 3]\n",
      " [4 5 6]\n",
      " [7 8 9]]\n"
     ]
    },
    {
     "data": {
      "text/plain": [
       "array([4, 5, 6, 7, 8, 9])"
      ]
     },
     "execution_count": 21,
     "metadata": {},
     "output_type": "execute_result"
    }
   ],
   "source": [
    "a = np.array([[1, 2, 3], [4, 5, 6], [7, 8, 9]])\n",
    "print(a)\n",
    "a[np.nonzero(a > 3)]    # better not to use\n",
    "a[a > 3]                # prefer this spelling"
   ]
  },
  {
   "cell_type": "code",
   "execution_count": 22,
   "metadata": {},
   "outputs": [
    {
     "name": "stdout",
     "output_type": "stream",
     "text": [
      "[[1 2 3]\n",
      " [4 5 6]\n",
      " [7 8 9]]\n"
     ]
    },
    {
     "data": {
      "text/plain": [
       "(array([1, 1, 1, 2, 2, 2]), array([0, 1, 2, 0, 1, 2]))"
      ]
     },
     "execution_count": 22,
     "metadata": {},
     "output_type": "execute_result"
    }
   ],
   "source": [
    "a = np.array([[1, 2, 3], [4, 5, 6], [7, 8, 9]])\n",
    "print(a)\n",
    "(a > 3).nonzero()       # nonzero can also be called as a method of the array.\n"
   ]
  },
  {
   "cell_type": "markdown",
   "metadata": {},
   "source": [
    "## numpy.exreact()\n"
   ]
  },
  {
   "cell_type": "markdown",
   "metadata": {},
   "source": [
    "`numpy.extract(condition, arr)`   \n",
    "Return the elements of an array that satisfy some condition.\n",
    "\n",
    "This is equivalent to `np.compress(ravel(condition), ravel(arr))`.\n",
    "\n",
    "If condition is boolean `np.extract()` is equivalent to `arr[condition]`.\n",
    "\n",
    "Note that `np.place` does the __exact opposite__ of `np.extract()`.\n",
    "\n",
    "- `condition`: array_like\n",
    "    - An array whose nonzero or True entries indicate the elements of arr to extract.\n",
    "- `arr`: array_like\n",
    "    - Input array of the same size as condition."
   ]
  },
  {
   "cell_type": "code",
   "execution_count": 23,
   "metadata": {},
   "outputs": [
    {
     "name": "stdout",
     "output_type": "stream",
     "text": [
      "[[ 0  1  2  3]\n",
      " [ 4  5  6  7]\n",
      " [ 8  9 10 11]]\n",
      "[[ True False False  True]\n",
      " [False False  True False]\n",
      " [False  True False False]]\n"
     ]
    },
    {
     "data": {
      "text/plain": [
       "array([0, 3, 6, 9])"
      ]
     },
     "execution_count": 23,
     "metadata": {},
     "output_type": "execute_result"
    }
   ],
   "source": [
    "arr = np.arange(12).reshape((3, 4))\n",
    "print(arr)\n",
    "condition = np.mod(arr, 3) == 0     \n",
    "print(condition)\n",
    "np.extract(condition, arr)"
   ]
  },
  {
   "cell_type": "code",
   "execution_count": null,
   "metadata": {},
   "outputs": [],
   "source": []
  }
 ],
 "metadata": {
  "kernelspec": {
   "display_name": "Python 3",
   "language": "python",
   "name": "python3"
  },
  "language_info": {
   "codemirror_mode": {
    "name": "ipython",
    "version": 3
   },
   "file_extension": ".py",
   "mimetype": "text/x-python",
   "name": "python",
   "nbconvert_exporter": "python",
   "pygments_lexer": "ipython3",
   "version": "3.10.12"
  }
 },
 "nbformat": 4,
 "nbformat_minor": 2
}
