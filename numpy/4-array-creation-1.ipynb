{
 "cells": [
  {
   "cell_type": "markdown",
   "metadata": {},
   "source": [
    "# Array creation\n",
    "\n",
    "- Array creation routines\n",
    "- Array creation from existing data\n",
    "\n",
    "\n",
    "## we are going to check array creation routine methods here:"
   ]
  },
  {
   "cell_type": "code",
   "execution_count": 1,
   "metadata": {},
   "outputs": [],
   "source": [
    "import numpy as np\n",
    "\n",
    "\n",
    "def cleaner_print(*args, end=f'\\n\\n {50 * \"-\"}\\n\\n', **kwargs) -> None:\n",
    "    \"cleaner print for clarity\"\n",
    "    print(*args, end=end,sep=':\\n ' , **kwargs)\n"
   ]
  },
  {
   "cell_type": "markdown",
   "metadata": {},
   "source": [
    "## np.empty:\n",
    "```empty(shape[, dtype, order]) -> return a new array of given shape and type, without initializing entries```\n"
   ]
  },
  {
   "cell_type": "code",
   "execution_count": 2,
   "metadata": {},
   "outputs": [
    {
     "name": "stdout",
     "output_type": "stream",
     "text": [
      "float64:\n",
      " [4.63934335e-310 0.00000000e+000 4.63832054e-310 4.63832054e-310\n",
      " 0.00000000e+000]\n",
      "\n",
      " --------------------------------------------------\n",
      "\n",
      "int8:\n",
      " [1 0 1 1 0]\n",
      "\n",
      " --------------------------------------------------\n",
      "\n",
      "int64:\n",
      " [93901354787118              0 93880652901712 93880652901792\n",
      "              0]\n",
      "\n",
      " --------------------------------------------------\n",
      "\n",
      "|S1:\n",
      " [b'\\x01' b'' b'\\x01' b'\\x01' b'']\n",
      "\n",
      " --------------------------------------------------\n",
      "\n",
      "float32:\n",
      " [9.730507e-34 4.562207e-41 9.730507e-34 4.562207e-41 6.411032e+06]\n",
      "\n",
      " --------------------------------------------------\n",
      "\n",
      "float16:\n",
      " [-8.496e-02  1.413e-04        nan  0.000e+00  9.844e-01]\n",
      "\n",
      " --------------------------------------------------\n",
      "\n"
     ]
    }
   ],
   "source": [
    "arr = np.empty(5)\n",
    "cleaner_print(arr.dtype, arr)\n",
    "\n",
    "arr = np.empty(5, dtype='i1')\n",
    "cleaner_print(arr.dtype, arr)\n",
    "\n",
    "arr = np.empty(5, dtype=int)\n",
    "cleaner_print(arr.dtype, arr)\n",
    "\n",
    "arr = np.empty(5, dtype='S')\n",
    "cleaner_print(arr.dtype, arr)\n",
    "\n",
    "arr = np.empty(5, dtype='f')\n",
    "cleaner_print(arr.dtype, arr)\n",
    "\n",
    "arr = np.empty(5, dtype='f2')\n",
    "cleaner_print(arr.dtype, arr)\n",
    "\n"
   ]
  },
  {
   "cell_type": "code",
   "execution_count": 3,
   "metadata": {},
   "outputs": [
    {
     "name": "stdout",
     "output_type": "stream",
     "text": [
      "int8:\n",
      " [0 0 0 0 0]\n",
      "\n",
      " --------------------------------------------------\n",
      "\n",
      "int8:\n",
      " [[  0 -83 -95   8]\n",
      " [ 45 127   0   0]\n",
      " [  0 -83 -95   8]]\n",
      "\n",
      " --------------------------------------------------\n",
      "\n"
     ]
    }
   ],
   "source": [
    "# we can also change the shape:\n",
    "\n",
    "arr = np.empty(5, dtype='i1')\n",
    "cleaner_print(arr.dtype, arr)\n",
    "\n",
    "arr = np.empty([3, 4], dtype='i1')\n",
    "cleaner_print(arr.dtype, arr)"
   ]
  },
  {
   "cell_type": "markdown",
   "metadata": {},
   "source": [
    "there is also a empty_like method which is just like empty method but it accept a prototype as a pattern  \n",
    "the prototype can be in different formats:"
   ]
  },
  {
   "cell_type": "code",
   "execution_count": 4,
   "metadata": {},
   "outputs": [
    {
     "name": "stdout",
     "output_type": "stream",
     "text": [
      "float64:\n",
      " [[6.90858885e-310 6.90858885e-310 0.00000000e+000]\n",
      " [0.00000000e+000 1.20953760e-312 2.25527773e+180]]\n",
      "\n",
      " --------------------------------------------------\n",
      "\n",
      "float64:\n",
      " [[ 6.90858885e-310  4.63832018e-310  6.90858628e-310]\n",
      " [ 4.63832017e-310 -8.55114857e-030  6.90858628e-310]]\n",
      "\n",
      " --------------------------------------------------\n",
      "\n"
     ]
    }
   ],
   "source": [
    "proto = ([1., 2., 3.], [4., 5., 6.])\n",
    "arr = np.empty_like(proto)\n",
    "cleaner_print(arr.dtype, arr)\n",
    "\n",
    "\n",
    "np_proto = np.array([[1., 2., 3.], [4., 5., 6.]])\n",
    "arr = np.empty_like(np_proto)\n",
    "cleaner_print(arr.dtype, arr)\n"
   ]
  },
  {
   "cell_type": "markdown",
   "metadata": {},
   "source": [
    "## np.eye:  \n",
    "```np.eye(N[, M, k, dtype, order])  -> returns a 2-D  array with ones on the diagonal and zeros elsewhere ```"
   ]
  },
  {
   "cell_type": "code",
   "execution_count": 5,
   "metadata": {},
   "outputs": [
    {
     "name": "stdout",
     "output_type": "stream",
     "text": [
      "[[1. 0. 0. 0.]\n",
      " [0. 1. 0. 0.]\n",
      " [0. 0. 1. 0.]\n",
      " [0. 0. 0. 1.]]\n",
      "[[1 0 0]\n",
      " [0 1 0]\n",
      " [0 0 1]]\n",
      "[[ True False False]\n",
      " [False  True False]\n",
      " [False False  True]]\n",
      "[['1' '' '']\n",
      " ['' '1' '']\n",
      " ['' '' '1']]\n"
     ]
    }
   ],
   "source": [
    "arr = np.eye(4)\n",
    "print(arr)\n",
    "\n",
    "arr = np.eye(3, dtype=int)\n",
    "print(arr)\n",
    "\n",
    "arr = np.eye(3, dtype=bool)\n",
    "print(arr)\n",
    "\n",
    "\n",
    "arr = np.eye(3, dtype=str)\n",
    "print(arr)"
   ]
  },
  {
   "cell_type": "markdown",
   "metadata": {},
   "source": [
    "__but how to handle not squared like matrices?__  \n",
    "we can use 'k' argument, its default value is 0 and it indicates the starting index"
   ]
  },
  {
   "cell_type": "code",
   "execution_count": 6,
   "metadata": {},
   "outputs": [
    {
     "name": "stdout",
     "output_type": "stream",
     "text": [
      "[['1' '' '' '' '']\n",
      " ['' '1' '' '' '']\n",
      " ['' '' '1' '' '']\n",
      " ['' '' '' '1' '']]\n",
      "\n",
      " --------------------------------------------------\n",
      "\n",
      "[['' '1' '' '' '']\n",
      " ['' '' '1' '' '']\n",
      " ['' '' '' '1' '']\n",
      " ['' '' '' '' '1']]\n",
      "\n",
      " --------------------------------------------------\n",
      "\n",
      "[['' '' '' '' '']\n",
      " ['1' '' '' '' '']\n",
      " ['' '1' '' '' '']\n",
      " ['' '' '1' '' '']]\n",
      "\n",
      " --------------------------------------------------\n",
      "\n"
     ]
    }
   ],
   "source": [
    "\n",
    "\n",
    "\n",
    "arr = np.eye(4,5, dtype=str)\n",
    "cleaner_print(arr)\n",
    "\n",
    "\n",
    "arr = np.eye(4,5, dtype=str, k=1)\n",
    "cleaner_print(arr)\n",
    "\n",
    "arr = np.eye(4,5, dtype=str, k=-1)\n",
    "cleaner_print(arr)"
   ]
  },
  {
   "cell_type": "markdown",
   "metadata": {},
   "source": [
    "## npm.identity\n",
    "returns the identity array"
   ]
  },
  {
   "cell_type": "code",
   "execution_count": 7,
   "metadata": {},
   "outputs": [
    {
     "data": {
      "text/plain": [
       "array([[1, 0, 0, 0, 0],\n",
       "       [0, 1, 0, 0, 0],\n",
       "       [0, 0, 1, 0, 0],\n",
       "       [0, 0, 0, 1, 0],\n",
       "       [0, 0, 0, 0, 1]])"
      ]
     },
     "execution_count": 7,
     "metadata": {},
     "output_type": "execute_result"
    }
   ],
   "source": [
    "arr = np.identity(5, dtype=int)\n",
    "arr"
   ]
  },
  {
   "cell_type": "markdown",
   "metadata": {},
   "source": [
    "## npm.ones\n",
    "``` ones(shape[, dtype, order]) -> returns an array of ones with the given shape and type, filled with ones  ```"
   ]
  },
  {
   "cell_type": "code",
   "execution_count": 8,
   "metadata": {},
   "outputs": [
    {
     "name": "stdout",
     "output_type": "stream",
     "text": [
      "[1. 1. 1. 1. 1.]\n",
      "\n",
      " --------------------------------------------------\n",
      "\n",
      "[[1. 1. 1. 1. 1.]\n",
      " [1. 1. 1. 1. 1.]\n",
      " [1. 1. 1. 1. 1.]\n",
      " [1. 1. 1. 1. 1.]\n",
      " [1. 1. 1. 1. 1.]]\n",
      "\n",
      " --------------------------------------------------\n",
      "\n"
     ]
    }
   ],
   "source": [
    "arr = np.ones(5)\n",
    "cleaner_print(arr)\n",
    "\n",
    "arr = np.ones([5,5])\n",
    "cleaner_print(arr)\n",
    "\n",
    "# there is also a like method for ones too"
   ]
  },
  {
   "cell_type": "markdown",
   "metadata": {},
   "source": [
    "## npm.zeros\n",
    "just opposite the ones  \n",
    "``` zeros(shape[, dtype, order]) -> returns an array of zeros with the given shape and type, filled with zeros  ```"
   ]
  },
  {
   "cell_type": "code",
   "execution_count": 9,
   "metadata": {},
   "outputs": [
    {
     "name": "stdout",
     "output_type": "stream",
     "text": [
      "[0. 0. 0. 0. 0.]\n",
      "\n",
      " --------------------------------------------------\n",
      "\n",
      "[[0. 0. 0. 0. 0.]\n",
      " [0. 0. 0. 0. 0.]\n",
      " [0. 0. 0. 0. 0.]\n",
      " [0. 0. 0. 0. 0.]\n",
      " [0. 0. 0. 0. 0.]]\n",
      "\n",
      " --------------------------------------------------\n",
      "\n"
     ]
    }
   ],
   "source": [
    "arr = np.zeros(5)\n",
    "cleaner_print(arr)\n",
    "\n",
    "arr = np.zeros([5,5])\n",
    "cleaner_print(arr)\n",
    "\n",
    "# there is also a like method for zeros too"
   ]
  },
  {
   "cell_type": "markdown",
   "metadata": {},
   "source": [
    "## npm.full\n",
    "this one just like the ones and zeros but with a costume value, you can declare how to fill the array"
   ]
  },
  {
   "cell_type": "code",
   "execution_count": 10,
   "metadata": {},
   "outputs": [
    {
     "name": "stdout",
     "output_type": "stream",
     "text": [
      "['parham' 'parham' 'parham' 'parham' 'parham']\n",
      "\n",
      " --------------------------------------------------\n",
      "\n",
      "[['parham' 'parham' 'parham' 'parham' 'parham']\n",
      " ['parham' 'parham' 'parham' 'parham' 'parham']\n",
      " ['parham' 'parham' 'parham' 'parham' 'parham']\n",
      " ['parham' 'parham' 'parham' 'parham' 'parham']\n",
      " ['parham' 'parham' 'parham' 'parham' 'parham']]\n",
      "\n",
      " --------------------------------------------------\n",
      "\n",
      "[['par' 'par' 'par' 'par' 'par']\n",
      " ['par' 'par' 'par' 'par' 'par']\n",
      " ['par' 'par' 'par' 'par' 'par']\n",
      " ['par' 'par' 'par' 'par' 'par']\n",
      " ['par' 'par' 'par' 'par' 'par']]\n",
      "\n",
      " --------------------------------------------------\n",
      "\n"
     ]
    }
   ],
   "source": [
    "arr = np.full(5, 'parham')\n",
    "cleaner_print(arr)\n",
    "\n",
    "arr = np.full([5,5], 'parham')\n",
    "cleaner_print(arr)\n",
    "\n",
    "arr = np.full([5,5], 'parham', dtype='U3')\n",
    "cleaner_print(arr)\n",
    "\n",
    "\n",
    "# there is also a like method for full too"
   ]
  },
  {
   "cell_type": "code",
   "execution_count": null,
   "metadata": {},
   "outputs": [],
   "source": []
  }
 ],
 "metadata": {
  "kernelspec": {
   "display_name": "Python 3",
   "language": "python",
   "name": "python3"
  },
  "language_info": {
   "codemirror_mode": {
    "name": "ipython",
    "version": 3
   },
   "file_extension": ".py",
   "mimetype": "text/x-python",
   "name": "python",
   "nbconvert_exporter": "python",
   "pygments_lexer": "ipython3",
   "version": "3.10.12"
  }
 },
 "nbformat": 4,
 "nbformat_minor": 2
}
