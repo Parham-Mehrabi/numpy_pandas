{
 "cells": [
  {
   "cell_type": "markdown",
   "metadata": {},
   "source": [
    "# Array creation\n",
    "\n",
    "## last methods for __Array creation from existing data__ (3):\n",
    "\n",
    "- np.fromfunction\n",
    "\n",
    "- np.fromiter\n",
    "\n",
    "- np.fromstring\n",
    "\n",
    "- np.loadtext\n"
   ]
  },
  {
   "cell_type": "code",
   "execution_count": 1,
   "metadata": {},
   "outputs": [],
   "source": [
    "import numpy as np"
   ]
  },
  {
   "cell_type": "markdown",
   "metadata": {},
   "source": [
    "## from function:\n",
    "\n",
    "```numpy.fromfunction(function, shape[, dtype, like])```\n",
    "\n",
    "\n",
    "Construct an array by executing a function over each coordinate.\n",
    "\n",
    "The resulting array therefore has a value fn(x, y, z) at coordinate (x, y, z).\n",
    "\n",
    "The result of the call to function is passed back directly. Therefore the shape of fromfunction is completely determined by function. If function returns a scalar value, the shape of fromfunction would not match the shape parameter."
   ]
  },
  {
   "cell_type": "code",
   "execution_count": 2,
   "metadata": {},
   "outputs": [
    {
     "name": "stdout",
     "output_type": "stream",
     "text": [
      "[[0. 0. 0. 0.]\n",
      " [1. 1. 1. 1.]\n",
      " [2. 2. 2. 2.]]\n",
      "-----------------------------\n",
      "[[0. 1. 2. 3.]\n",
      " [0. 1. 2. 3.]\n",
      " [0. 1. 2. 3.]]\n",
      "-----------------------------\n"
     ]
    },
    {
     "data": {
      "text/plain": [
       "0"
      ]
     },
     "execution_count": 2,
     "metadata": {},
     "output_type": "execute_result"
    }
   ],
   "source": [
    "def justone(i, j):\n",
    "    print(i)\n",
    "    print('-----------------------------')\n",
    "    print(j)\n",
    "    print('-----------------------------')\n",
    "    return 0\n",
    "\n",
    "x = 3\n",
    "y = 4\n",
    "res = np.fromfunction(justone, (x, y))\n",
    "res"
   ]
  },
  {
   "cell_type": "code",
   "execution_count": 3,
   "metadata": {},
   "outputs": [
    {
     "data": {
      "text/plain": [
       "array([[0., 0.],\n",
       "       [1., 1.]])"
      ]
     },
     "execution_count": 3,
     "metadata": {},
     "output_type": "execute_result"
    }
   ],
   "source": [
    "np.fromfunction(lambda i, j: i, (2, 2))"
   ]
  },
  {
   "cell_type": "code",
   "execution_count": 4,
   "metadata": {},
   "outputs": [
    {
     "data": {
      "text/plain": [
       "array([[ True, False, False],\n",
       "       [False,  True, False],\n",
       "       [False, False,  True]])"
      ]
     },
     "execution_count": 4,
     "metadata": {},
     "output_type": "execute_result"
    }
   ],
   "source": [
    "np.fromfunction(lambda i, j: i == j, (3, 3), dtype=int)"
   ]
  },
  {
   "cell_type": "code",
   "execution_count": 7,
   "metadata": {},
   "outputs": [
    {
     "data": {
      "text/plain": [
       "array([[0, 1, 2],\n",
       "       [1, 2, 3],\n",
       "       [2, 3, 4]])"
      ]
     },
     "execution_count": 7,
     "metadata": {},
     "output_type": "execute_result"
    }
   ],
   "source": [
    "np.fromfunction(lambda i, j: i + j, (3, 3), dtype=int)"
   ]
  },
  {
   "cell_type": "markdown",
   "metadata": {},
   "source": [
    "## np.fromiter\n",
    "\n",
    "```np.fromiter(iter, dtype, [count=-1, *, like=None])```\n",
    "\n",
    "<small>Specify count to improve performance. It allows fromiter to pre-allocate the output array, instead of resizing it on demand.</small>"
   ]
  },
  {
   "cell_type": "code",
   "execution_count": 18,
   "metadata": {},
   "outputs": [
    {
     "name": "stdout",
     "output_type": "stream",
     "text": [
      "[0 1 2 3 4]\n"
     ]
    },
    {
     "data": {
      "text/plain": [
       "array([[1, 2],\n",
       "       [2, 3],\n",
       "       [3, 4],\n",
       "       [4, 5],\n",
       "       [5, 6]])"
      ]
     },
     "execution_count": 18,
     "metadata": {},
     "output_type": "execute_result"
    }
   ],
   "source": [
    "print( \n",
    "    np.fromiter(range(5), np.int8)\n",
    "        )\n",
    "\n",
    "# A carefully constructed subarray dtype will lead to higher dimensional results:\n",
    "iterable = ((x+1, x+2) for x in range(5))\n",
    "np.fromiter(iterable, dtype=np.dtype((int, 2)))"
   ]
  },
  {
   "cell_type": "markdown",
   "metadata": {},
   "source": [
    "## np.fromstring\n",
    "A new 1-D array initialized from text data in a string.  \n",
    "```numpy.fromstring(string[, dtype=float, count=-1, *, sep, like=None])```\n",
    "- sep: The string separating numbers in the data; extra whitespace between elements is also ignored."
   ]
  },
  {
   "cell_type": "code",
   "execution_count": 39,
   "metadata": {},
   "outputs": [
    {
     "name": "stdout",
     "output_type": "stream",
     "text": [
      "[1 2 3]\n",
      "[1 2 3]\n"
     ]
    }
   ],
   "source": [
    "a = np.fromstring('1 2 3', sep=' ', dtype=int)\n",
    "b = np.fromstring('1, 2, 3', sep=',', dtype=int)\n",
    "print(a)\n",
    "print(b)"
   ]
  },
  {
   "cell_type": "markdown",
   "metadata": {},
   "source": [
    "## np.loadtxt\n",
    "\n",
    "```np.loadtxt(fname[, dtype=float, comments='#', delimiter=None, converters=None, skiprows=0, usecols=None, unpack=False, ndmin=0, encoding='bytes', max_rows=None, *, quotechar=None, like=None])```  \n",
    "\n",
    "- fname:\n",
    "    - file, str, pathlib.Path, list of str, generator.\n",
    "    - if the filename extension is .gz or .bz2, the file is first decompressed.\n",
    "    - Note that generators must return bytes or strings.\n",
    "    - The strings in a list or produced by a generator are treated as lines.\n",
    "\n",
    "- dtype:\n",
    "    - default is float (Optional)  \n",
    "    \n",
    "- comments:\n",
    "    - default is \"#\" (Optional)\n",
    "    - The characters or list of characters used to indicate the start of a comment\n",
    "    - None implies no comments.\n",
    "    - For backwards compatibility, byte strings will be decoded as ‘latin1’.  \n",
    "\n",
    "- delimiter:\n",
    "    - default is \" \" (Optional)\n",
    "    - The character used to separate the values\n",
    "    - For backwards compatibility, byte strings will be decoded as ‘latin1’  \n",
    "\n",
    "- convertor:\n",
    "    - Converter functions to customize value parsing.\n",
    "    - if converters is callable, the function is applied to all columns,  \n",
    "         else it must be a dict that maps column number to a parser function\n",
    "\n",
    "- skiprows:\n",
    "    - default is 0 (Optional)\n",
    "    - Skip the first skiprows lines, including comments\n",
    "\n",
    "- usecols:\n",
    "    - default is None (optional)\n",
    "    - int or sequence\n",
    "    - Which columns to read, with 0 being the first\n",
    "        - For example, usecols = (1,4,5) will extract the 2nd, 5th and 6th columns.\n",
    "    - The default is None, results in all columns being read.  \n",
    "\n",
    "- unpack:\n",
    "    - default is False (optional)\n",
    "    - If True, the returned array is transposed\n",
    "        -  so that arguments may be unpacked using ```x, y, z = loadtxt(...)```\n",
    "\n",
    "- ndmin:\n",
    "    - default is 0 (optional)\n",
    "    - The returned array will have at least ndmin dimensions. Otherwise mono-dimensional axes will be squeezed. Legal values: 0, 1 or 2.\n",
    "\n",
    "- encoding:\n",
    "    - default is \"bytes\" (optional)\n",
    "    - Encoding used to decode the inputfile. \n",
    "    - Does not apply to input streams. \n",
    "    - if set to None the system default is used.\n",
    "\n",
    "- max_rows:\n",
    "    - default is None (optional)\n",
    "    - Read max_rows rows of content after skiprows lines\n",
    "    - The default is to read all the rows.\n",
    "    - empty rows containing no data such as empty lines and comment lines are not counted towards max_rows\n",
    "\n",
    "- quotechar:\n",
    "    - default is None which means quoting support is disabled\n",
    "    - The character used to denote the start and end of a quoted item\n",
    "    - Occurrences of the delimiter or comment characters are ignored within a quoted item\n",
    "    - If two consecutive instances of quotechar are found within a quoted field, the first is treated as an escape character"
   ]
  },
  {
   "cell_type": "markdown",
   "metadata": {},
   "source": []
  }
 ],
 "metadata": {
  "kernelspec": {
   "display_name": "Python 3",
   "language": "python",
   "name": "python3"
  },
  "language_info": {
   "codemirror_mode": {
    "name": "ipython",
    "version": 3
   },
   "file_extension": ".py",
   "mimetype": "text/x-python",
   "name": "python",
   "nbconvert_exporter": "python",
   "pygments_lexer": "ipython3",
   "version": "3.10.12"
  }
 },
 "nbformat": 4,
 "nbformat_minor": 2
}
