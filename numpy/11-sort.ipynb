{
 "cells": [
  {
   "cell_type": "markdown",
   "metadata": {},
   "source": [
    "# Sorting\n",
    "\n",
    "|name|description|\n",
    "|:-:|:-:|\n",
    "| sort(a[, axis, kind, order, stable]) | Return a sorted copy of an array.\n",
    "| lexsort(keys[, axis]) | Perform an indirect stable sort using a sequence of keys.\n",
    "| argsort(a[, axis, kind, order, stable]) | Returns the indices that would sort an array.\n",
    "| ndarray.sort([axis, kind, order]) | Sort an array in-place.\n",
    "| sort_complex(a) | Sort a complex array using the real part first, then the imaginary part.\n",
    "| partition(a, kth[, axis, kind, order]) | Return a partitioned copy of an array.\n",
    "| argpartition(a, kth[, axis, kind, order]) | Perform an indirect partition along the given axis using the algorithm specified by the kind keyword.\n",
    "\n",
    "[Go to documents](https://numpy.org/doc/stable/reference/routines.sort.html)"
   ]
  },
  {
   "cell_type": "code",
   "execution_count": 1,
   "metadata": {},
   "outputs": [],
   "source": [
    "import numpy as np"
   ]
  },
  {
   "cell_type": "markdown",
   "metadata": {},
   "source": [
    "## numpy.sort()"
   ]
  },
  {
   "cell_type": "markdown",
   "metadata": {},
   "source": [
    "```python\n",
    "numpy.sort(a, axis=-1, kind=\"quicksort\", order=None, *, stable=None)\n",
    "```\n",
    "Return a sorted __copy__ of an array.\n",
    "\n",
    "\n",
    "- `a`: array_like  \n",
    "    - Array to be sorted.\n",
    "    - required\n",
    "- `axis`: int or None\n",
    "    - default = -1 (optional)\n",
    "    - int or None\n",
    "    - by default try to sort last axis(-1) but you can either specify the axis you wish to sort or set `axis` to None to flattened before sorting\n",
    "\n",
    "- `kind`: {‘quicksort’, ‘mergesort’, ‘heapsort’, ‘stable’}\n",
    "    - sorting algorithm\n",
    "    - default = \"quicksort\" (optional)\n",
    "    - Note that both ‘stable’ and ‘mergesort’ use timsort or radix sort under the covers and, in general, the actual implementation will vary with data type. The ‘mergesort’ option is retained for backwards compatibility.\n",
    "\n",
    "    - The various sorting algorithms are characterized by their average speed, worst case performance, work space size, and whether they are stable. A stable sort keeps items with the same key in the same relative order. The four algorithms implemented in NumPy have the following properties:\n",
    "        |kind|speed|worst case| work space| stable |\n",
    "        |:-:|:-:|:-:|:-:|:-:\n",
    "        |'quicksort'|1|$ O(n^2) $|0 | No\n",
    "        |'heapsort'|3|$ O(n* \\log(n))) $|0| No\n",
    "        |'mergesort'|2|$ O(n* \\log(n))) $|~n/2| Yes\n",
    "        |'timsort'|2|$ O(n* \\log(n))) $|~n/2| Yes\n",
    "- `order`: str or list of str\n",
    "    - When a is an array with fields defined, this argument specifies which fields to compare first, second, etc.\n",
    "    - A single field can be specified as a string, and not all fields need be specified, but unspecified fields will still be used, in the order in which they come up in the dtype, to break ties."
   ]
  },
  {
   "cell_type": "code",
   "execution_count": 2,
   "metadata": {},
   "outputs": [
    {
     "data": {
      "text/plain": [
       "(array([(7, 1, 8, 6, 2, 1), (9, 2, 3, 4, 2, 1)],\n",
       "       dtype=[('a', '<i8'), ('b', '<i8'), ('c', '<i8'), ('d', '<i8'), ('e', '<i8'), ('f', '<i8')]),\n",
       " array([(7, 1, 8, 6, 2, 1), (9, 2, 3, 4, 2, 1)],\n",
       "       dtype=[('a', '<i8'), ('b', '<i8'), ('c', '<i8'), ('d', '<i8'), ('e', '<i8'), ('f', '<i8')]),\n",
       " array([(9, 2, 3, 4, 2, 1), (7, 1, 8, 6, 2, 1)],\n",
       "       dtype=[('a', '<i8'), ('b', '<i8'), ('c', '<i8'), ('d', '<i8'), ('e', '<i8'), ('f', '<i8')]))"
      ]
     },
     "execution_count": 2,
     "metadata": {},
     "output_type": "execute_result"
    }
   ],
   "source": [
    "dt = [(i, int) for i in 'abcdef']\n",
    "\n",
    "arr = np.array([(9, 2, 3, 4, 2, 1), (7, 1, 8, 6, 2, 1)], dtype=dt)  # THIS IS NOT A 2D ARRAY\n",
    "\n",
    "sorted_arr_based_on_a = np.sort(arr, order=\"a\")\n",
    "sorted_arr_based_on_b = np.sort(arr)\n",
    "sorted_arr_based_on_c = np.sort(arr, order=\"c\")\n",
    "\n",
    "\n",
    "sorted_arr_based_on_a, sorted_arr_based_on_b, sorted_arr_based_on_c"
   ]
  },
  {
   "cell_type": "markdown",
   "metadata": {},
   "source": [
    "## numpy.lexsort() "
   ]
  },
  {
   "cell_type": "markdown",
   "metadata": {},
   "source": [
    "```python\n",
    "numpy.lexsort(keys, axis=-1)\n",
    "```\n",
    "> Returns: indices:  ndarray of ints\n",
    "Perform an indirect stable sort using a sequence of keys.\n",
    "\n",
    "- `keys` : (k, m, n, …) array-like  \n",
    "    - The k keys to be sorted. The last key (e.g, the last row if keys is a 2D array) is the primary sort key. Each element of keys along the zeroth axis must be an array-like object of the same shape.\n",
    "\n",
    "- `axis`: \n",
    "    - int\n",
    "    - default = -1 (optional)\n",
    "    - axis to be indirectly sorted\n",
    "\n",
    "\n",
    "start sorting from last key if elements be similar, then compare previous key for the specific index and then return an array of index"
   ]
  },
  {
   "cell_type": "code",
   "execution_count": 3,
   "metadata": {},
   "outputs": [
    {
     "name": "stdout",
     "output_type": "stream",
     "text": [
      "indices:        [2 4 6 5 3 1 0]\n",
      "second_array:   [0 0 1 2 4 4 9]\n",
      "first_array:    [1 3 4 4 4 5 1]\n"
     ]
    }
   ],
   "source": [
    "arr_1 = np.array([1, 5, 1, 4, 3, 4, 4])\n",
    "arr_2 = np.array([9, 4, 0, 4, 0, 2, 1])\n",
    "\n",
    "indices = np.lexsort([arr_1, arr_2])\n",
    "\n",
    "print(\"indices: \".ljust(15), indices)\n",
    "print(\"second_array:\".ljust(15), arr_2[indices])\n",
    "print(\"first_array:\".ljust(15), arr_1[indices])"
   ]
  },
  {
   "cell_type": "markdown",
   "metadata": {},
   "source": [
    "in previous example the inner key was arr_2 so it sort based on that, but its 2nd and 4th index are same (`arr_2[2] == arr_2[4]`) so it will check the other key,  \n",
    "and since `arr_1[2] < arr_1[4]` it will put 2 before 4 and so on\n",
    "\n",
    "look at the other example:"
   ]
  },
  {
   "cell_type": "code",
   "execution_count": 4,
   "metadata": {},
   "outputs": [
    {
     "name": "stdout",
     "output_type": "stream",
     "text": [
      "fereydon zarghami\n",
      "jamshid abedini\n",
      "parham Mehrabi\n",
      "parham asemani\n"
     ]
    }
   ],
   "source": [
    "first_names = [\"parham\", \"fereydon\", \"jamshid\", \"parham\"]\n",
    "last_names = [\"Mehrabi\", \"zarghami\", \"abedini\", \"asemani\"]\n",
    "\n",
    "indices = np.lexsort((last_names, first_names))\n",
    "\n",
    "sorted_names = [f\"{first_names[i]} {last_names[i]}\" for i in np.lexsort((last_names, first_names))]\n",
    "print(*sorted_names, sep='\\n')"
   ]
  },
  {
   "cell_type": "markdown",
   "metadata": {},
   "source": [
    "## numpy.argsort()"
   ]
  },
  {
   "cell_type": "markdown",
   "metadata": {},
   "source": [
    "```python\n",
    "numpy.argsort(a, axis=-1, kind=None, order=None, *, stable=None)\n",
    "```\n",
    "> Returns the indices that would sort an array.\n",
    "\n",
    "- `a`: array_like\n",
    "    - Array to sort.\n",
    "- `axis`: int or None\n",
    "    - Axis along which to sort\n",
    "    - default = -1 (optional)\n",
    "- `kind`: {‘quicksort’, ‘mergesort’, ‘heapsort’, ‘stable’}\n",
    "    - sorting algorithm\n",
    "- `order`: str or list of str\n",
    "    - When a is an array with fields defined, this argument specifies which fields to compare first, second, etc.\n",
    "    - A single field can be specified as a string, and not all fields need be specified, but unspecified fields will still be used, in the order in which they come up in the dtype, to break ties.\n",
    "\n",
    "- `stable`: bool\n",
    "    - sort stability\n",
    "    - if True, the returned array will maintain the relative order of a values which compare as equal but if False or None, its not guaranteed\n",
    "    - internally this option will select `kind='stable'`\n",
    "    - default = None (Optional)\n",
    "\n",
    "\n",
    "<br/>\n",
    "<br/>\n",
    "<br/>\n",
    "\n",
    "Returns: index_array\n",
    "- ndarray, int\n",
    "- Array of indices that sort a along the specified axis. If a is one-dimensional, a[index_array] yields a sorted a. More generally, np.take_along_axis(a, index_array, axis=axis) always yields the sorted a, irrespective of dimensionality."
   ]
  },
  {
   "cell_type": "code",
   "execution_count": 5,
   "metadata": {},
   "outputs": [
    {
     "data": {
      "text/plain": [
       "array([[1, 2, 0],\n",
       "       [2, 1, 0]])"
      ]
     },
     "execution_count": 5,
     "metadata": {},
     "output_type": "execute_result"
    }
   ],
   "source": [
    "arr_2D = np.array([[3, 0, 2], [9, 7, 1]])\n",
    "\n",
    "np.argsort(arr_2D)"
   ]
  },
  {
   "cell_type": "markdown",
   "metadata": {},
   "source": [
    "in previous example the axis for the 2D array is -1 (its the default) so it will consider the last axis for sorting\n",
    "so in first row, it want to change it like this: 0 2 3\n",
    "as we use the result you can see it:\n",
    " "
   ]
  },
  {
   "cell_type": "code",
   "execution_count": 6,
   "metadata": {},
   "outputs": [
    {
     "data": {
      "text/plain": [
       "array([0, 2, 3])"
      ]
     },
     "execution_count": 6,
     "metadata": {},
     "output_type": "execute_result"
    }
   ],
   "source": [
    "result = np.argsort(arr_2D)\n",
    "arr_2D[0][result[0]]"
   ]
  },
  {
   "cell_type": "markdown",
   "metadata": {},
   "source": [
    "but if we specify previous the axis to sort the cols, the result will be like this:"
   ]
  },
  {
   "cell_type": "code",
   "execution_count": 7,
   "metadata": {},
   "outputs": [
    {
     "data": {
      "text/plain": [
       "array([[0, 0, 1],\n",
       "       [1, 1, 0]])"
      ]
     },
     "execution_count": 7,
     "metadata": {},
     "output_type": "execute_result"
    }
   ],
   "source": [
    "np.argsort(arr_2D, axis=0)"
   ]
  },
  {
   "cell_type": "markdown",
   "metadata": {},
   "source": [
    "this new generated result means, the first 2 elements of first row should remain on first row but the last one should go to the second row(row number 1)\n",
    "and same for the last item in next row which should move back to first row like this:\n",
    "\n",
    "\n",
    "\n",
    "\n",
    "$\n",
    "\\begin{pmatrix}\n",
    "3 & 0 & 2 \\\\\n",
    "9 & 7 & 1\n",
    "\\end{pmatrix} \\quad \\longrightarrow \\quad \\begin{pmatrix}\n",
    "3 & 0 & 1 \\\\\n",
    "9 & 7 & 2\n",
    "\\end{pmatrix}\n",
    "$"
   ]
  }
 ],
 "metadata": {
  "kernelspec": {
   "display_name": "Python 3",
   "language": "python",
   "name": "python3"
  },
  "language_info": {
   "codemirror_mode": {
    "name": "ipython",
    "version": 3
   },
   "file_extension": ".py",
   "mimetype": "text/x-python",
   "name": "python",
   "nbconvert_exporter": "python",
   "pygments_lexer": "ipython3",
   "version": "3.10.12"
  }
 },
 "nbformat": 4,
 "nbformat_minor": 2
}
