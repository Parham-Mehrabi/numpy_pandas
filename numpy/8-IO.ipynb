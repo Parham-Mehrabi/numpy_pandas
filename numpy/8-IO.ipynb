{
 "cells": [
  {
   "cell_type": "markdown",
   "metadata": {},
   "source": [
    "# Numpy Input/Output\n",
    "\n",
    "\n",
    "numpy has lots of method for different Input output types:\n",
    "\n",
    "- for numpy binary files\n",
    "    - np.load\n",
    "    - np.save\n",
    "    - np.savez\n",
    "    - np.savez_compressed\n",
    "- for text files:\n",
    "    - np.loadtext\n",
    "    - np.savetext\n",
    "    - np.genfromtext\n",
    "    - np.fromregex\n",
    "    - np.fromstring\n",
    "    - np.ndarry.tofile\n",
    "    - np.ndarray.tolist\n",
    "- raw binaries:\n",
    "    - np.fromfile\n",
    "    - np.ndarray.tofile\n",
    "- string formatting\n",
    "- memory mapping files\n",
    "    - np.memmap\n",
    "    - np.lib.format.open_memmap\n",
    "- etc\n",
    "\n",
    "\n",
    "\n"
   ]
  },
  {
   "cell_type": "markdown",
   "metadata": {},
   "source": []
  }
 ],
 "metadata": {
  "language_info": {
   "name": "python"
  }
 },
 "nbformat": 4,
 "nbformat_minor": 2
}
