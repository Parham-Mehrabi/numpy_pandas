{
 "cells": [
  {
   "cell_type": "markdown",
   "metadata": {},
   "source": [
    "# Numpy Input/Output\n",
    "\n",
    "\n",
    "numpy has lots of method for different Input output types:\n",
    "\n",
    "- for numpy binary files\n",
    "    - np.load\n",
    "    - np.save\n",
    "    - np.savez\n",
    "    - np.savez_compressed\n",
    "- for text files:\n",
    "    - np.loadtxt\n",
    "    - np.savetext\n",
    "    - np.genfromtext        (will explain in next module)\n",
    "    - np.fromregex\n",
    "    - np.fromstring\n",
    "    - np.ndarry.tofile\n",
    "    - np.ndarray.tolist\n",
    "- raw binaries:\n",
    "    - np.fromfile\n",
    "    - np.ndarray.tofile\n",
    "- string formatting\n",
    "- memory mapping files\n",
    "    - np.memmap\n",
    "    - np.lib.format.open_memmap\n",
    "- etc\n",
    "\n",
    "\n",
    "\n"
   ]
  },
  {
   "cell_type": "code",
   "execution_count": null,
   "metadata": {},
   "outputs": [],
   "source": [
    "import numpy as np"
   ]
  },
  {
   "cell_type": "markdown",
   "metadata": {},
   "source": [
    "## Binaries:\n",
    "\n",
    "- np.load:\n",
    "     - just simply load a `.npy`, `npz` or `pickle files`.\n",
    "     - allow_pickles is False by default for security reasons.\n",
    "- np.save:\n",
    "     - save __an array__ to a binary file in `.npy` format.\n",
    "     - allow_pickle is True by default for obvious reasons.\n",
    "- np.savez:\n",
    "     - save __servals arrays__ into a single binary file in uncompressed `.npz` format.\n",
    "     - you can either use `*args` or `**kwargs` for saving arrays in this method, first approach will name arrays as `arr_0`, `arr_1`, and so on.\n",
    "     - when you load these you need to specify which one of arrays you are pointing to otherwise after you load the object using np.load.\n",
    "- np.savez_compressed:\n",
    "     - just like np.savez but it will __compress__ the file before saving on disk."
   ]
  },
  {
   "cell_type": "code",
   "execution_count": null,
   "metadata": {},
   "outputs": [],
   "source": [
    "my_array = np.arange(10)\n",
    "np.save(\"my_first_array.npy\", my_array)\n",
    "print(np.load('./my_first_array.npy'))\n",
    "\n",
    "\n",
    "# using np.savez with *args\n",
    "np.savez(\"my_second_array.npz\", my_array)\n",
    "print(np.load(\"./my_second_array.npz\")['arr_0'])\n",
    "\n",
    "# using np.savez with **kwargs\n",
    "np.savez(\"my_third_array.npz\", par=my_array)\n",
    "print(np.load(\"./my_third_array.npz\")['par'])\n",
    "\n",
    "\n",
    "np.savez_compressed(\"my_last_array.npz\", the_last=my_array)\n",
    "print(np.load(\"./my_last_array.npz\")['the_last'])\n"
   ]
  },
  {
   "cell_type": "markdown",
   "metadata": {},
   "source": [
    "## Text Files\n",
    "\n",
    "- np.loadtxt:\n",
    "    - we already explored this on previous module\n",
    "- np.savetxt(fname, fmt='%.18e', delimiter=' ', newline='n', header='', footer='', comments='#', encoding=None)\n",
    "    - every thing is obvious expect for fmt:  \n",
    "    just as we use format in strings in python, we can do that for this format too just add a % in the beginning instead of `:`\n",
    "    - usually used for 2D and 3D arrays"
   ]
  },
  {
   "cell_type": "code",
   "execution_count": null,
   "metadata": {},
   "outputs": [],
   "source": [
    "my_array = np.arange(20).reshape(4, 5)\n",
    "np.savetxt(\"np_array_text_1\", my_array, fmt=\"%.18e\")    # default format\n",
    "np.savetxt(\"np_array_text_2\", my_array, fmt=\"%4d\")      # add left-padding to match minimum length\n",
    "np.savetxt(\"np_array_text_3\", my_array, fmt=\"%8.2f\")      # add left-padding to match minimum length and 2 floating points\n",
    "np.savetxt(\"np_array_text_4\", my_array, fmt=\"%03d\")      # add 0 to reach minimum length\n",
    "number = 123\n",
    "print(\"the format string for {:.18e} looks like this\".format(number))\n",
    "print(\"the format string for {:4d} looks like this\".format(number))\n",
    "print(\"the format string for {:8.2f} looks like this\".format(number))\n",
    "print(\"the format string for {:03d} looks like this\".format(number))"
   ]
  },
  {
   "cell_type": "markdown",
   "metadata": {},
   "source": [
    "- np.fromregex(file, regexp, dtype, encoding=None)\n",
    "    you just need to specify the file and regex and it will create an array from it"
   ]
  },
  {
   "cell_type": "code",
   "execution_count": null,
   "metadata": {},
   "outputs": [],
   "source": [
    "with open(\"my_regex_file.txt\", \"w\") as f:\n",
    "    f.write(\"parham 031 \\nabdol 008 \\nhooshang 065\")\n",
    "\n",
    "regex = \"(.+)\\s+(\\d+)\"\n",
    "array_from_regex = np.fromregex('./my_regex_file.txt', regex, dtype=[(\"name\", 'S8'), (\"code\", np.uint8)])\n",
    "array_from_regex"
   ]
  },
  {
   "cell_type": "markdown",
   "metadata": {},
   "source": [
    "## np.tolist()\n",
    "- Return the array as an a.ndim-levels deep nested list of python scalars"
   ]
  },
  {
   "cell_type": "code",
   "execution_count": null,
   "metadata": {},
   "outputs": [],
   "source": [
    "arr = np.uint32([1, 2, 3])\n",
    "list_1 = arr.tolist()       # will return a list of python objects\n",
    "list_2 = list(arr)          # will return a list of ui32\n",
    "print(type(list_1[0]))\n",
    "print(type(list_2[0]))\n",
    "\n",
    "# it also convert n-d arrays\n",
    "\n",
    "_2d_arr = np.array([[1, 2],[3, 4]])\n",
    "\n",
    "print(_2d_arr.tolist())     # convert inner arrays to python list recursively\n",
    "print(list(_2d_arr))        # just convert the first layer"
   ]
  },
  {
   "cell_type": "code",
   "execution_count": null,
   "metadata": {},
   "outputs": [],
   "source": []
  }
 ],
 "metadata": {
  "kernelspec": {
   "display_name": "Python 3",
   "language": "python",
   "name": "python3"
  },
  "language_info": {
   "codemirror_mode": {
    "name": "ipython",
    "version": 3
   },
   "file_extension": ".py",
   "mimetype": "text/x-python",
   "name": "python",
   "nbconvert_exporter": "python",
   "pygments_lexer": "ipython3",
   "version": "3.10.12"
  }
 },
 "nbformat": 4,
 "nbformat_minor": 2
}
