{
 "cells": [
  {
   "cell_type": "markdown",
   "metadata": {},
   "source": [
    "## Pandas"
   ]
  },
  {
   "cell_type": "code",
   "execution_count": 9,
   "metadata": {},
   "outputs": [],
   "source": [
    "import pandas as pd\n",
    "import numpy as np"
   ]
  },
  {
   "cell_type": "code",
   "execution_count": 5,
   "metadata": {},
   "outputs": [
    {
     "data": {
      "text/plain": [
       "0         1\n",
       "1         2\n",
       "2         3\n",
       "3    parham\n",
       "dtype: object"
      ]
     },
     "execution_count": 5,
     "metadata": {},
     "output_type": "execute_result"
    }
   ],
   "source": [
    "pd.Series([1, 2, 3, 'parham'])"
   ]
  },
  {
   "cell_type": "code",
   "execution_count": 7,
   "metadata": {},
   "outputs": [
    {
     "data": {
      "text/plain": [
       "DatetimeIndex(['2024-01-23', '2024-01-24', '2024-01-25', '2024-01-26',\n",
       "               '2024-01-27', '2024-01-28'],\n",
       "              dtype='datetime64[ns]', freq='D')"
      ]
     },
     "execution_count": 7,
     "metadata": {},
     "output_type": "execute_result"
    }
   ],
   "source": [
    "pd.date_range(\"20240123\", periods=6)"
   ]
  },
  {
   "cell_type": "code",
   "execution_count": 11,
   "metadata": {},
   "outputs": [
    {
     "data": {
      "text/html": [
       "<div>\n",
       "<style scoped>\n",
       "    .dataframe tbody tr th:only-of-type {\n",
       "        vertical-align: middle;\n",
       "    }\n",
       "\n",
       "    .dataframe tbody tr th {\n",
       "        vertical-align: top;\n",
       "    }\n",
       "\n",
       "    .dataframe thead th {\n",
       "        text-align: right;\n",
       "    }\n",
       "</style>\n",
       "<table border=\"1\" class=\"dataframe\">\n",
       "  <thead>\n",
       "    <tr style=\"text-align: right;\">\n",
       "      <th></th>\n",
       "      <th>0</th>\n",
       "      <th>1</th>\n",
       "      <th>2</th>\n",
       "      <th>3</th>\n",
       "    </tr>\n",
       "  </thead>\n",
       "  <tbody>\n",
       "    <tr>\n",
       "      <th>2024-01-23</th>\n",
       "      <td>-1.326163</td>\n",
       "      <td>0.537002</td>\n",
       "      <td>0.788263</td>\n",
       "      <td>-0.026536</td>\n",
       "    </tr>\n",
       "    <tr>\n",
       "      <th>2024-01-24</th>\n",
       "      <td>0.612729</td>\n",
       "      <td>0.538153</td>\n",
       "      <td>-0.501933</td>\n",
       "      <td>-0.957859</td>\n",
       "    </tr>\n",
       "    <tr>\n",
       "      <th>2024-01-25</th>\n",
       "      <td>-0.320501</td>\n",
       "      <td>0.754770</td>\n",
       "      <td>0.154235</td>\n",
       "      <td>0.860886</td>\n",
       "    </tr>\n",
       "    <tr>\n",
       "      <th>2024-01-26</th>\n",
       "      <td>-0.764268</td>\n",
       "      <td>0.145407</td>\n",
       "      <td>-0.351889</td>\n",
       "      <td>-2.509462</td>\n",
       "    </tr>\n",
       "    <tr>\n",
       "      <th>2024-01-27</th>\n",
       "      <td>0.880252</td>\n",
       "      <td>0.433392</td>\n",
       "      <td>0.895024</td>\n",
       "      <td>-0.096786</td>\n",
       "    </tr>\n",
       "    <tr>\n",
       "      <th>2024-01-28</th>\n",
       "      <td>3.137536</td>\n",
       "      <td>0.795450</td>\n",
       "      <td>1.701000</td>\n",
       "      <td>0.440136</td>\n",
       "    </tr>\n",
       "  </tbody>\n",
       "</table>\n",
       "</div>"
      ],
      "text/plain": [
       "                   0         1         2         3\n",
       "2024-01-23 -1.326163  0.537002  0.788263 -0.026536\n",
       "2024-01-24  0.612729  0.538153 -0.501933 -0.957859\n",
       "2024-01-25 -0.320501  0.754770  0.154235  0.860886\n",
       "2024-01-26 -0.764268  0.145407 -0.351889 -2.509462\n",
       "2024-01-27  0.880252  0.433392  0.895024 -0.096786\n",
       "2024-01-28  3.137536  0.795450  1.701000  0.440136"
      ]
     },
     "execution_count": 11,
     "metadata": {},
     "output_type": "execute_result"
    }
   ],
   "source": [
    "dates = pd.date_range(\"20240123\", periods=6)\n",
    "df = pd.DataFrame(np.random.randn(6, 4), index=dates)\n",
    "df"
   ]
  },
  {
   "cell_type": "code",
   "execution_count": 15,
   "metadata": {},
   "outputs": [
    {
     "data": {
      "text/html": [
       "<div>\n",
       "<style scoped>\n",
       "    .dataframe tbody tr th:only-of-type {\n",
       "        vertical-align: middle;\n",
       "    }\n",
       "\n",
       "    .dataframe tbody tr th {\n",
       "        vertical-align: top;\n",
       "    }\n",
       "\n",
       "    .dataframe thead th {\n",
       "        text-align: right;\n",
       "    }\n",
       "</style>\n",
       "<table border=\"1\" class=\"dataframe\">\n",
       "  <thead>\n",
       "    <tr style=\"text-align: right;\">\n",
       "      <th></th>\n",
       "      <th>A</th>\n",
       "      <th>B</th>\n",
       "      <th>C</th>\n",
       "      <th>D</th>\n",
       "    </tr>\n",
       "  </thead>\n",
       "  <tbody>\n",
       "    <tr>\n",
       "      <th>2024-01-23</th>\n",
       "      <td>-1.371734</td>\n",
       "      <td>-0.199502</td>\n",
       "      <td>-0.009086</td>\n",
       "      <td>1.235649</td>\n",
       "    </tr>\n",
       "    <tr>\n",
       "      <th>2024-01-24</th>\n",
       "      <td>0.567163</td>\n",
       "      <td>0.265720</td>\n",
       "      <td>-0.085676</td>\n",
       "      <td>1.108451</td>\n",
       "    </tr>\n",
       "    <tr>\n",
       "      <th>2024-01-25</th>\n",
       "      <td>-0.818023</td>\n",
       "      <td>1.183095</td>\n",
       "      <td>2.153649</td>\n",
       "      <td>-0.167537</td>\n",
       "    </tr>\n",
       "    <tr>\n",
       "      <th>2024-01-26</th>\n",
       "      <td>-0.688619</td>\n",
       "      <td>-2.165838</td>\n",
       "      <td>1.276232</td>\n",
       "      <td>-1.975716</td>\n",
       "    </tr>\n",
       "    <tr>\n",
       "      <th>2024-01-27</th>\n",
       "      <td>-0.106537</td>\n",
       "      <td>0.394824</td>\n",
       "      <td>0.141892</td>\n",
       "      <td>-0.638468</td>\n",
       "    </tr>\n",
       "    <tr>\n",
       "      <th>2024-01-28</th>\n",
       "      <td>-1.415315</td>\n",
       "      <td>0.693857</td>\n",
       "      <td>-0.755891</td>\n",
       "      <td>-1.170347</td>\n",
       "    </tr>\n",
       "  </tbody>\n",
       "</table>\n",
       "</div>"
      ],
      "text/plain": [
       "                   A         B         C         D\n",
       "2024-01-23 -1.371734 -0.199502 -0.009086  1.235649\n",
       "2024-01-24  0.567163  0.265720 -0.085676  1.108451\n",
       "2024-01-25 -0.818023  1.183095  2.153649 -0.167537\n",
       "2024-01-26 -0.688619 -2.165838  1.276232 -1.975716\n",
       "2024-01-27 -0.106537  0.394824  0.141892 -0.638468\n",
       "2024-01-28 -1.415315  0.693857 -0.755891 -1.170347"
      ]
     },
     "execution_count": 15,
     "metadata": {},
     "output_type": "execute_result"
    }
   ],
   "source": [
    "dates = pd.date_range(\"20240123\", periods=6)\n",
    "df = pd.DataFrame(np.random.randn(6, 4), index=dates, columns=['A', 'B', 'C', 'D'])\n",
    "df"
   ]
  },
  {
   "cell_type": "code",
   "execution_count": 16,
   "metadata": {},
   "outputs": [
    {
     "data": {
      "text/plain": [
       "A    float64\n",
       "B    float64\n",
       "C    float64\n",
       "D    float64\n",
       "dtype: object"
      ]
     },
     "execution_count": 16,
     "metadata": {},
     "output_type": "execute_result"
    }
   ],
   "source": [
    "df.dtypes"
   ]
  },
  {
   "cell_type": "code",
   "execution_count": 17,
   "metadata": {},
   "outputs": [
    {
     "data": {
      "text/plain": [
       "2024-01-23   -1.371734\n",
       "2024-01-24    0.567163\n",
       "2024-01-25   -0.818023\n",
       "2024-01-26   -0.688619\n",
       "2024-01-27   -0.106537\n",
       "2024-01-28   -1.415315\n",
       "Freq: D, Name: A, dtype: float64"
      ]
     },
     "execution_count": 17,
     "metadata": {},
     "output_type": "execute_result"
    }
   ],
   "source": [
    "df['A']"
   ]
  },
  {
   "cell_type": "code",
   "execution_count": 18,
   "metadata": {},
   "outputs": [
    {
     "data": {
      "text/html": [
       "<div>\n",
       "<style scoped>\n",
       "    .dataframe tbody tr th:only-of-type {\n",
       "        vertical-align: middle;\n",
       "    }\n",
       "\n",
       "    .dataframe tbody tr th {\n",
       "        vertical-align: top;\n",
       "    }\n",
       "\n",
       "    .dataframe thead th {\n",
       "        text-align: right;\n",
       "    }\n",
       "</style>\n",
       "<table border=\"1\" class=\"dataframe\">\n",
       "  <thead>\n",
       "    <tr style=\"text-align: right;\">\n",
       "      <th></th>\n",
       "      <th>A</th>\n",
       "      <th>B</th>\n",
       "      <th>C</th>\n",
       "      <th>D</th>\n",
       "    </tr>\n",
       "  </thead>\n",
       "  <tbody>\n",
       "    <tr>\n",
       "      <th>2024-01-23</th>\n",
       "      <td>-1.371734</td>\n",
       "      <td>-0.199502</td>\n",
       "      <td>-0.009086</td>\n",
       "      <td>1.235649</td>\n",
       "    </tr>\n",
       "    <tr>\n",
       "      <th>2024-01-24</th>\n",
       "      <td>0.567163</td>\n",
       "      <td>0.265720</td>\n",
       "      <td>-0.085676</td>\n",
       "      <td>1.108451</td>\n",
       "    </tr>\n",
       "    <tr>\n",
       "      <th>2024-01-25</th>\n",
       "      <td>-0.818023</td>\n",
       "      <td>1.183095</td>\n",
       "      <td>2.153649</td>\n",
       "      <td>-0.167537</td>\n",
       "    </tr>\n",
       "    <tr>\n",
       "      <th>2024-01-26</th>\n",
       "      <td>-0.688619</td>\n",
       "      <td>-2.165838</td>\n",
       "      <td>1.276232</td>\n",
       "      <td>-1.975716</td>\n",
       "    </tr>\n",
       "    <tr>\n",
       "      <th>2024-01-27</th>\n",
       "      <td>-0.106537</td>\n",
       "      <td>0.394824</td>\n",
       "      <td>0.141892</td>\n",
       "      <td>-0.638468</td>\n",
       "    </tr>\n",
       "  </tbody>\n",
       "</table>\n",
       "</div>"
      ],
      "text/plain": [
       "                   A         B         C         D\n",
       "2024-01-23 -1.371734 -0.199502 -0.009086  1.235649\n",
       "2024-01-24  0.567163  0.265720 -0.085676  1.108451\n",
       "2024-01-25 -0.818023  1.183095  2.153649 -0.167537\n",
       "2024-01-26 -0.688619 -2.165838  1.276232 -1.975716\n",
       "2024-01-27 -0.106537  0.394824  0.141892 -0.638468"
      ]
     },
     "execution_count": 18,
     "metadata": {},
     "output_type": "execute_result"
    }
   ],
   "source": [
    "df.head()"
   ]
  },
  {
   "cell_type": "code",
   "execution_count": 19,
   "metadata": {},
   "outputs": [
    {
     "data": {
      "text/html": [
       "<div>\n",
       "<style scoped>\n",
       "    .dataframe tbody tr th:only-of-type {\n",
       "        vertical-align: middle;\n",
       "    }\n",
       "\n",
       "    .dataframe tbody tr th {\n",
       "        vertical-align: top;\n",
       "    }\n",
       "\n",
       "    .dataframe thead th {\n",
       "        text-align: right;\n",
       "    }\n",
       "</style>\n",
       "<table border=\"1\" class=\"dataframe\">\n",
       "  <thead>\n",
       "    <tr style=\"text-align: right;\">\n",
       "      <th></th>\n",
       "      <th>A</th>\n",
       "      <th>B</th>\n",
       "      <th>C</th>\n",
       "      <th>D</th>\n",
       "    </tr>\n",
       "  </thead>\n",
       "  <tbody>\n",
       "    <tr>\n",
       "      <th>2024-01-23</th>\n",
       "      <td>-1.371734</td>\n",
       "      <td>-0.199502</td>\n",
       "      <td>-0.009086</td>\n",
       "      <td>1.235649</td>\n",
       "    </tr>\n",
       "    <tr>\n",
       "      <th>2024-01-24</th>\n",
       "      <td>0.567163</td>\n",
       "      <td>0.265720</td>\n",
       "      <td>-0.085676</td>\n",
       "      <td>1.108451</td>\n",
       "    </tr>\n",
       "  </tbody>\n",
       "</table>\n",
       "</div>"
      ],
      "text/plain": [
       "                   A         B         C         D\n",
       "2024-01-23 -1.371734 -0.199502 -0.009086  1.235649\n",
       "2024-01-24  0.567163  0.265720 -0.085676  1.108451"
      ]
     },
     "execution_count": 19,
     "metadata": {},
     "output_type": "execute_result"
    }
   ],
   "source": [
    "df.head(2)"
   ]
  },
  {
   "cell_type": "code",
   "execution_count": 20,
   "metadata": {},
   "outputs": [
    {
     "data": {
      "text/html": [
       "<div>\n",
       "<style scoped>\n",
       "    .dataframe tbody tr th:only-of-type {\n",
       "        vertical-align: middle;\n",
       "    }\n",
       "\n",
       "    .dataframe tbody tr th {\n",
       "        vertical-align: top;\n",
       "    }\n",
       "\n",
       "    .dataframe thead th {\n",
       "        text-align: right;\n",
       "    }\n",
       "</style>\n",
       "<table border=\"1\" class=\"dataframe\">\n",
       "  <thead>\n",
       "    <tr style=\"text-align: right;\">\n",
       "      <th></th>\n",
       "      <th>A</th>\n",
       "      <th>B</th>\n",
       "      <th>C</th>\n",
       "      <th>D</th>\n",
       "    </tr>\n",
       "  </thead>\n",
       "  <tbody>\n",
       "    <tr>\n",
       "      <th>2024-01-24</th>\n",
       "      <td>0.567163</td>\n",
       "      <td>0.265720</td>\n",
       "      <td>-0.085676</td>\n",
       "      <td>1.108451</td>\n",
       "    </tr>\n",
       "    <tr>\n",
       "      <th>2024-01-25</th>\n",
       "      <td>-0.818023</td>\n",
       "      <td>1.183095</td>\n",
       "      <td>2.153649</td>\n",
       "      <td>-0.167537</td>\n",
       "    </tr>\n",
       "    <tr>\n",
       "      <th>2024-01-26</th>\n",
       "      <td>-0.688619</td>\n",
       "      <td>-2.165838</td>\n",
       "      <td>1.276232</td>\n",
       "      <td>-1.975716</td>\n",
       "    </tr>\n",
       "    <tr>\n",
       "      <th>2024-01-27</th>\n",
       "      <td>-0.106537</td>\n",
       "      <td>0.394824</td>\n",
       "      <td>0.141892</td>\n",
       "      <td>-0.638468</td>\n",
       "    </tr>\n",
       "    <tr>\n",
       "      <th>2024-01-28</th>\n",
       "      <td>-1.415315</td>\n",
       "      <td>0.693857</td>\n",
       "      <td>-0.755891</td>\n",
       "      <td>-1.170347</td>\n",
       "    </tr>\n",
       "  </tbody>\n",
       "</table>\n",
       "</div>"
      ],
      "text/plain": [
       "                   A         B         C         D\n",
       "2024-01-24  0.567163  0.265720 -0.085676  1.108451\n",
       "2024-01-25 -0.818023  1.183095  2.153649 -0.167537\n",
       "2024-01-26 -0.688619 -2.165838  1.276232 -1.975716\n",
       "2024-01-27 -0.106537  0.394824  0.141892 -0.638468\n",
       "2024-01-28 -1.415315  0.693857 -0.755891 -1.170347"
      ]
     },
     "execution_count": 20,
     "metadata": {},
     "output_type": "execute_result"
    }
   ],
   "source": [
    "df.tail()"
   ]
  },
  {
   "cell_type": "code",
   "execution_count": 21,
   "metadata": {},
   "outputs": [
    {
     "data": {
      "text/html": [
       "<div>\n",
       "<style scoped>\n",
       "    .dataframe tbody tr th:only-of-type {\n",
       "        vertical-align: middle;\n",
       "    }\n",
       "\n",
       "    .dataframe tbody tr th {\n",
       "        vertical-align: top;\n",
       "    }\n",
       "\n",
       "    .dataframe thead th {\n",
       "        text-align: right;\n",
       "    }\n",
       "</style>\n",
       "<table border=\"1\" class=\"dataframe\">\n",
       "  <thead>\n",
       "    <tr style=\"text-align: right;\">\n",
       "      <th></th>\n",
       "      <th>A</th>\n",
       "      <th>B</th>\n",
       "      <th>C</th>\n",
       "      <th>D</th>\n",
       "    </tr>\n",
       "  </thead>\n",
       "  <tbody>\n",
       "    <tr>\n",
       "      <th>2024-01-27</th>\n",
       "      <td>-0.106537</td>\n",
       "      <td>0.394824</td>\n",
       "      <td>0.141892</td>\n",
       "      <td>-0.638468</td>\n",
       "    </tr>\n",
       "    <tr>\n",
       "      <th>2024-01-28</th>\n",
       "      <td>-1.415315</td>\n",
       "      <td>0.693857</td>\n",
       "      <td>-0.755891</td>\n",
       "      <td>-1.170347</td>\n",
       "    </tr>\n",
       "  </tbody>\n",
       "</table>\n",
       "</div>"
      ],
      "text/plain": [
       "                   A         B         C         D\n",
       "2024-01-27 -0.106537  0.394824  0.141892 -0.638468\n",
       "2024-01-28 -1.415315  0.693857 -0.755891 -1.170347"
      ]
     },
     "execution_count": 21,
     "metadata": {},
     "output_type": "execute_result"
    }
   ],
   "source": [
    "df.tail(2)"
   ]
  },
  {
   "cell_type": "code",
   "execution_count": 22,
   "metadata": {},
   "outputs": [
    {
     "data": {
      "text/html": [
       "<div>\n",
       "<style scoped>\n",
       "    .dataframe tbody tr th:only-of-type {\n",
       "        vertical-align: middle;\n",
       "    }\n",
       "\n",
       "    .dataframe tbody tr th {\n",
       "        vertical-align: top;\n",
       "    }\n",
       "\n",
       "    .dataframe thead th {\n",
       "        text-align: right;\n",
       "    }\n",
       "</style>\n",
       "<table border=\"1\" class=\"dataframe\">\n",
       "  <thead>\n",
       "    <tr style=\"text-align: right;\">\n",
       "      <th></th>\n",
       "      <th>A</th>\n",
       "      <th>B</th>\n",
       "      <th>C</th>\n",
       "      <th>D</th>\n",
       "    </tr>\n",
       "  </thead>\n",
       "  <tbody>\n",
       "    <tr>\n",
       "      <th>count</th>\n",
       "      <td>6.000000</td>\n",
       "      <td>6.000000</td>\n",
       "      <td>6.000000</td>\n",
       "      <td>6.000000</td>\n",
       "    </tr>\n",
       "    <tr>\n",
       "      <th>mean</th>\n",
       "      <td>-0.638844</td>\n",
       "      <td>0.028693</td>\n",
       "      <td>0.453520</td>\n",
       "      <td>-0.267995</td>\n",
       "    </tr>\n",
       "    <tr>\n",
       "      <th>std</th>\n",
       "      <td>0.763207</td>\n",
       "      <td>1.169047</td>\n",
       "      <td>1.061303</td>\n",
       "      <td>1.267552</td>\n",
       "    </tr>\n",
       "    <tr>\n",
       "      <th>min</th>\n",
       "      <td>-1.415315</td>\n",
       "      <td>-2.165838</td>\n",
       "      <td>-0.755891</td>\n",
       "      <td>-1.975716</td>\n",
       "    </tr>\n",
       "    <tr>\n",
       "      <th>25%</th>\n",
       "      <td>-1.233306</td>\n",
       "      <td>-0.083196</td>\n",
       "      <td>-0.066529</td>\n",
       "      <td>-1.037377</td>\n",
       "    </tr>\n",
       "    <tr>\n",
       "      <th>50%</th>\n",
       "      <td>-0.753321</td>\n",
       "      <td>0.330272</td>\n",
       "      <td>0.066403</td>\n",
       "      <td>-0.403003</td>\n",
       "    </tr>\n",
       "    <tr>\n",
       "      <th>75%</th>\n",
       "      <td>-0.252057</td>\n",
       "      <td>0.619099</td>\n",
       "      <td>0.992647</td>\n",
       "      <td>0.789454</td>\n",
       "    </tr>\n",
       "    <tr>\n",
       "      <th>max</th>\n",
       "      <td>0.567163</td>\n",
       "      <td>1.183095</td>\n",
       "      <td>2.153649</td>\n",
       "      <td>1.235649</td>\n",
       "    </tr>\n",
       "  </tbody>\n",
       "</table>\n",
       "</div>"
      ],
      "text/plain": [
       "              A         B         C         D\n",
       "count  6.000000  6.000000  6.000000  6.000000\n",
       "mean  -0.638844  0.028693  0.453520 -0.267995\n",
       "std    0.763207  1.169047  1.061303  1.267552\n",
       "min   -1.415315 -2.165838 -0.755891 -1.975716\n",
       "25%   -1.233306 -0.083196 -0.066529 -1.037377\n",
       "50%   -0.753321  0.330272  0.066403 -0.403003\n",
       "75%   -0.252057  0.619099  0.992647  0.789454\n",
       "max    0.567163  1.183095  2.153649  1.235649"
      ]
     },
     "execution_count": 22,
     "metadata": {},
     "output_type": "execute_result"
    }
   ],
   "source": [
    "df.describe()"
   ]
  },
  {
   "cell_type": "code",
   "execution_count": 23,
   "metadata": {},
   "outputs": [
    {
     "data": {
      "text/plain": [
       "count    6.000000\n",
       "mean    -0.638844\n",
       "std      0.763207\n",
       "min     -1.415315\n",
       "25%     -1.233306\n",
       "50%     -0.753321\n",
       "75%     -0.252057\n",
       "max      0.567163\n",
       "Name: A, dtype: float64"
      ]
     },
     "execution_count": 23,
     "metadata": {},
     "output_type": "execute_result"
    }
   ],
   "source": [
    "df['A'].describe()"
   ]
  },
  {
   "cell_type": "code",
   "execution_count": 24,
   "metadata": {},
   "outputs": [
    {
     "data": {
      "text/plain": [
       "A   -0.638844\n",
       "B    0.028693\n",
       "C    0.453520\n",
       "D   -0.267995\n",
       "dtype: float64"
      ]
     },
     "execution_count": 24,
     "metadata": {},
     "output_type": "execute_result"
    }
   ],
   "source": [
    "df.mean()"
   ]
  },
  {
   "cell_type": "code",
   "execution_count": 25,
   "metadata": {},
   "outputs": [
    {
     "data": {
      "text/plain": [
       "-0.6388441010272609"
      ]
     },
     "execution_count": 25,
     "metadata": {},
     "output_type": "execute_result"
    }
   ],
   "source": [
    "df['A'].mean()"
   ]
  },
  {
   "cell_type": "code",
   "execution_count": 28,
   "metadata": {},
   "outputs": [
    {
     "data": {
      "text/plain": [
       "A   -0.402286\n",
       "B    0.033109\n",
       "C   -0.047381\n",
       "D    1.172050\n",
       "dtype: float64"
      ]
     },
     "execution_count": 28,
     "metadata": {},
     "output_type": "execute_result"
    }
   ],
   "source": [
    "df[0:2].mean()"
   ]
  },
  {
   "cell_type": "code",
   "execution_count": 37,
   "metadata": {},
   "outputs": [
    {
     "name": "stdout",
     "output_type": "stream",
     "text": [
      "df :\n",
      "                    A         B         C         D\n",
      "2024-01-23 -1.371734 -0.199502 -0.009086  1.235649\n",
      "2024-01-24  0.567163  0.265720 -0.085676  1.108451\n",
      "2024-01-25 -0.818023  1.183095  2.153649 -0.167537\n",
      "2024-01-26 -0.688619 -2.165838  1.276232 -1.975716\n",
      "2024-01-27 -0.106537  0.394824  0.141892 -0.638468\n",
      "2024-01-28 -1.415315  0.693857 -0.755891 -1.170347\n",
      "--------------\n",
      "\n",
      "\n",
      "df[\"A\"] :\n",
      " 2024-01-23   -1.371734\n",
      "2024-01-24    0.567163\n",
      "2024-01-25   -0.818023\n",
      "2024-01-26   -0.688619\n",
      "2024-01-27   -0.106537\n",
      "2024-01-28   -1.415315\n",
      "Freq: D, Name: A, dtype: float64\n",
      "----------------\n",
      "\n",
      "\n",
      "df[:2] :\n",
      "                    A         B         C         D\n",
      "2024-01-23 -1.371734 -0.199502 -0.009086  1.235649\n",
      "2024-01-24  0.567163  0.265720 -0.085676  1.108451\n",
      "----------------\n",
      "\n",
      "\n"
     ]
    }
   ],
   "source": [
    "print('df :\\n\\r', df, end='\\n--------------\\n\\n\\n')\n",
    "print('df[\"A\"] :\\n', df['A'], end='\\n----------------\\n\\n\\n')\n",
    "print('df[:2] :\\n', df[:2], end='\\n----------------\\n\\n\\n')"
   ]
  },
  {
   "cell_type": "code",
   "execution_count": 38,
   "metadata": {},
   "outputs": [
    {
     "data": {
      "text/html": [
       "<div>\n",
       "<style scoped>\n",
       "    .dataframe tbody tr th:only-of-type {\n",
       "        vertical-align: middle;\n",
       "    }\n",
       "\n",
       "    .dataframe tbody tr th {\n",
       "        vertical-align: top;\n",
       "    }\n",
       "\n",
       "    .dataframe thead th {\n",
       "        text-align: right;\n",
       "    }\n",
       "</style>\n",
       "<table border=\"1\" class=\"dataframe\">\n",
       "  <thead>\n",
       "    <tr style=\"text-align: right;\">\n",
       "      <th></th>\n",
       "      <th>2024-01-23</th>\n",
       "      <th>2024-01-24</th>\n",
       "      <th>2024-01-25</th>\n",
       "      <th>2024-01-26</th>\n",
       "      <th>2024-01-27</th>\n",
       "      <th>2024-01-28</th>\n",
       "    </tr>\n",
       "  </thead>\n",
       "  <tbody>\n",
       "    <tr>\n",
       "      <th>A</th>\n",
       "      <td>-1.371734</td>\n",
       "      <td>0.567163</td>\n",
       "      <td>-0.818023</td>\n",
       "      <td>-0.688619</td>\n",
       "      <td>-0.106537</td>\n",
       "      <td>-1.415315</td>\n",
       "    </tr>\n",
       "    <tr>\n",
       "      <th>B</th>\n",
       "      <td>-0.199502</td>\n",
       "      <td>0.265720</td>\n",
       "      <td>1.183095</td>\n",
       "      <td>-2.165838</td>\n",
       "      <td>0.394824</td>\n",
       "      <td>0.693857</td>\n",
       "    </tr>\n",
       "    <tr>\n",
       "      <th>C</th>\n",
       "      <td>-0.009086</td>\n",
       "      <td>-0.085676</td>\n",
       "      <td>2.153649</td>\n",
       "      <td>1.276232</td>\n",
       "      <td>0.141892</td>\n",
       "      <td>-0.755891</td>\n",
       "    </tr>\n",
       "    <tr>\n",
       "      <th>D</th>\n",
       "      <td>1.235649</td>\n",
       "      <td>1.108451</td>\n",
       "      <td>-0.167537</td>\n",
       "      <td>-1.975716</td>\n",
       "      <td>-0.638468</td>\n",
       "      <td>-1.170347</td>\n",
       "    </tr>\n",
       "  </tbody>\n",
       "</table>\n",
       "</div>"
      ],
      "text/plain": [
       "   2024-01-23  2024-01-24  2024-01-25  2024-01-26  2024-01-27  2024-01-28\n",
       "A   -1.371734    0.567163   -0.818023   -0.688619   -0.106537   -1.415315\n",
       "B   -0.199502    0.265720    1.183095   -2.165838    0.394824    0.693857\n",
       "C   -0.009086   -0.085676    2.153649    1.276232    0.141892   -0.755891\n",
       "D    1.235649    1.108451   -0.167537   -1.975716   -0.638468   -1.170347"
      ]
     },
     "execution_count": 38,
     "metadata": {},
     "output_type": "execute_result"
    }
   ],
   "source": [
    "df.T"
   ]
  },
  {
   "cell_type": "code",
   "execution_count": 40,
   "metadata": {},
   "outputs": [
    {
     "data": {
      "text/html": [
       "<div>\n",
       "<style scoped>\n",
       "    .dataframe tbody tr th:only-of-type {\n",
       "        vertical-align: middle;\n",
       "    }\n",
       "\n",
       "    .dataframe tbody tr th {\n",
       "        vertical-align: top;\n",
       "    }\n",
       "\n",
       "    .dataframe thead th {\n",
       "        text-align: right;\n",
       "    }\n",
       "</style>\n",
       "<table border=\"1\" class=\"dataframe\">\n",
       "  <thead>\n",
       "    <tr style=\"text-align: right;\">\n",
       "      <th></th>\n",
       "      <th>A</th>\n",
       "      <th>B</th>\n",
       "      <th>C</th>\n",
       "      <th>D</th>\n",
       "    </tr>\n",
       "  </thead>\n",
       "  <tbody>\n",
       "    <tr>\n",
       "      <th>2024-01-26</th>\n",
       "      <td>-0.688619</td>\n",
       "      <td>-2.165838</td>\n",
       "      <td>1.276232</td>\n",
       "      <td>-1.975716</td>\n",
       "    </tr>\n",
       "    <tr>\n",
       "      <th>2024-01-23</th>\n",
       "      <td>-1.371734</td>\n",
       "      <td>-0.199502</td>\n",
       "      <td>-0.009086</td>\n",
       "      <td>1.235649</td>\n",
       "    </tr>\n",
       "    <tr>\n",
       "      <th>2024-01-24</th>\n",
       "      <td>0.567163</td>\n",
       "      <td>0.265720</td>\n",
       "      <td>-0.085676</td>\n",
       "      <td>1.108451</td>\n",
       "    </tr>\n",
       "    <tr>\n",
       "      <th>2024-01-27</th>\n",
       "      <td>-0.106537</td>\n",
       "      <td>0.394824</td>\n",
       "      <td>0.141892</td>\n",
       "      <td>-0.638468</td>\n",
       "    </tr>\n",
       "    <tr>\n",
       "      <th>2024-01-28</th>\n",
       "      <td>-1.415315</td>\n",
       "      <td>0.693857</td>\n",
       "      <td>-0.755891</td>\n",
       "      <td>-1.170347</td>\n",
       "    </tr>\n",
       "    <tr>\n",
       "      <th>2024-01-25</th>\n",
       "      <td>-0.818023</td>\n",
       "      <td>1.183095</td>\n",
       "      <td>2.153649</td>\n",
       "      <td>-0.167537</td>\n",
       "    </tr>\n",
       "  </tbody>\n",
       "</table>\n",
       "</div>"
      ],
      "text/plain": [
       "                   A         B         C         D\n",
       "2024-01-26 -0.688619 -2.165838  1.276232 -1.975716\n",
       "2024-01-23 -1.371734 -0.199502 -0.009086  1.235649\n",
       "2024-01-24  0.567163  0.265720 -0.085676  1.108451\n",
       "2024-01-27 -0.106537  0.394824  0.141892 -0.638468\n",
       "2024-01-28 -1.415315  0.693857 -0.755891 -1.170347\n",
       "2024-01-25 -0.818023  1.183095  2.153649 -0.167537"
      ]
     },
     "execution_count": 40,
     "metadata": {},
     "output_type": "execute_result"
    }
   ],
   "source": [
    "df.sort_values(by='B')"
   ]
  },
  {
   "cell_type": "code",
   "execution_count": 44,
   "metadata": {},
   "outputs": [
    {
     "data": {
      "text/html": [
       "<div>\n",
       "<style scoped>\n",
       "    .dataframe tbody tr th:only-of-type {\n",
       "        vertical-align: middle;\n",
       "    }\n",
       "\n",
       "    .dataframe tbody tr th {\n",
       "        vertical-align: top;\n",
       "    }\n",
       "\n",
       "    .dataframe thead th {\n",
       "        text-align: right;\n",
       "    }\n",
       "</style>\n",
       "<table border=\"1\" class=\"dataframe\">\n",
       "  <thead>\n",
       "    <tr style=\"text-align: right;\">\n",
       "      <th></th>\n",
       "      <th>A</th>\n",
       "      <th>B</th>\n",
       "      <th>C</th>\n",
       "      <th>D</th>\n",
       "    </tr>\n",
       "  </thead>\n",
       "  <tbody>\n",
       "    <tr>\n",
       "      <th>2024-01-24</th>\n",
       "      <td>0.567163</td>\n",
       "      <td>0.26572</td>\n",
       "      <td>-0.085676</td>\n",
       "      <td>1.108451</td>\n",
       "    </tr>\n",
       "  </tbody>\n",
       "</table>\n",
       "</div>"
      ],
      "text/plain": [
       "                   A        B         C         D\n",
       "2024-01-24  0.567163  0.26572 -0.085676  1.108451"
      ]
     },
     "execution_count": 44,
     "metadata": {},
     "output_type": "execute_result"
    }
   ],
   "source": [
    "df[df['A'] > 0]\n"
   ]
  },
  {
   "cell_type": "code",
   "execution_count": 49,
   "metadata": {},
   "outputs": [
    {
     "data": {
      "text/html": [
       "<div>\n",
       "<style scoped>\n",
       "    .dataframe tbody tr th:only-of-type {\n",
       "        vertical-align: middle;\n",
       "    }\n",
       "\n",
       "    .dataframe tbody tr th {\n",
       "        vertical-align: top;\n",
       "    }\n",
       "\n",
       "    .dataframe thead th {\n",
       "        text-align: right;\n",
       "    }\n",
       "</style>\n",
       "<table border=\"1\" class=\"dataframe\">\n",
       "  <thead>\n",
       "    <tr style=\"text-align: right;\">\n",
       "      <th></th>\n",
       "      <th>id</th>\n",
       "      <th>title</th>\n",
       "      <th>year</th>\n",
       "    </tr>\n",
       "  </thead>\n",
       "  <tbody>\n",
       "    <tr>\n",
       "      <th>0</th>\n",
       "      <td>15724</td>\n",
       "      <td>Dama de noche</td>\n",
       "      <td>1993</td>\n",
       "    </tr>\n",
       "    <tr>\n",
       "      <th>1</th>\n",
       "      <td>23331</td>\n",
       "      <td>Pesn o geroyakh</td>\n",
       "      <td>1983</td>\n",
       "    </tr>\n",
       "    <tr>\n",
       "      <th>2</th>\n",
       "      <td>31458</td>\n",
       "      <td>El huésped del sevillano</td>\n",
       "      <td>1970</td>\n",
       "    </tr>\n",
       "    <tr>\n",
       "      <th>3</th>\n",
       "      <td>35423</td>\n",
       "      <td>Kate &amp; Leopold</td>\n",
       "      <td>2001</td>\n",
       "    </tr>\n",
       "    <tr>\n",
       "      <th>4</th>\n",
       "      <td>36606</td>\n",
       "      <td>Another Time, Another Place</td>\n",
       "      <td>1983</td>\n",
       "    </tr>\n",
       "    <tr>\n",
       "      <th>...</th>\n",
       "      <td>...</td>\n",
       "      <td>...</td>\n",
       "      <td>...</td>\n",
       "    </tr>\n",
       "    <tr>\n",
       "      <th>344271</th>\n",
       "      <td>11169780</td>\n",
       "      <td>Riot Pls: 10th Anniversary Edition - League of...</td>\n",
       "      <td>2019</td>\n",
       "    </tr>\n",
       "    <tr>\n",
       "      <th>344272</th>\n",
       "      <td>11170648</td>\n",
       "      <td>The Faketrix</td>\n",
       "      <td>2002</td>\n",
       "    </tr>\n",
       "    <tr>\n",
       "      <th>344273</th>\n",
       "      <td>11171312</td>\n",
       "      <td>Faceless Shadows</td>\n",
       "      <td>2019</td>\n",
       "    </tr>\n",
       "    <tr>\n",
       "      <th>344274</th>\n",
       "      <td>11171338</td>\n",
       "      <td>Saghi</td>\n",
       "      <td>1970</td>\n",
       "    </tr>\n",
       "    <tr>\n",
       "      <th>344275</th>\n",
       "      <td>11171390</td>\n",
       "      <td>Kakol-zari</td>\n",
       "      <td>1972</td>\n",
       "    </tr>\n",
       "  </tbody>\n",
       "</table>\n",
       "<p>344276 rows × 3 columns</p>\n",
       "</div>"
      ],
      "text/plain": [
       "              id                                              title  year\n",
       "0          15724                                      Dama de noche  1993\n",
       "1          23331                                    Pesn o geroyakh  1983\n",
       "2          31458                           El huésped del sevillano  1970\n",
       "3          35423                                     Kate & Leopold  2001\n",
       "4          36606                        Another Time, Another Place  1983\n",
       "...          ...                                                ...   ...\n",
       "344271  11169780  Riot Pls: 10th Anniversary Edition - League of...  2019\n",
       "344272  11170648                                       The Faketrix  2002\n",
       "344273  11171312                                   Faceless Shadows  2019\n",
       "344274  11171338                                              Saghi  1970\n",
       "344275  11171390                                         Kakol-zari  1972\n",
       "\n",
       "[344276 rows x 3 columns]"
      ]
     },
     "execution_count": 49,
     "metadata": {},
     "output_type": "execute_result"
    }
   ],
   "source": [
    "pd.read_csv('my_file.csv')"
   ]
  },
  {
   "cell_type": "code",
   "execution_count": 50,
   "metadata": {},
   "outputs": [],
   "source": [
    "df.to_csv('./csv.csv')"
   ]
  },
  {
   "cell_type": "code",
   "execution_count": null,
   "metadata": {},
   "outputs": [],
   "source": []
  }
 ],
 "metadata": {
  "kernelspec": {
   "display_name": "Python 3",
   "language": "python",
   "name": "python3"
  },
  "language_info": {
   "codemirror_mode": {
    "name": "ipython",
    "version": 3
   },
   "file_extension": ".py",
   "mimetype": "text/x-python",
   "name": "python",
   "nbconvert_exporter": "python",
   "pygments_lexer": "ipython3",
   "version": "3.10.12"
  }
 },
 "nbformat": 4,
 "nbformat_minor": 2
}
